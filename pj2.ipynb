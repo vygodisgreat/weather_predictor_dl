{
 "cells": [
  {
   "cell_type": "code",
   "execution_count": 1,
   "metadata": {},
   "outputs": [],
   "source": [
    "import pandas as pd\n",
    "import numpy as np\n",
    "import matplotlib.pyplot as plt"
   ]
  },
  {
   "cell_type": "code",
   "execution_count": 2,
   "metadata": {},
   "outputs": [],
   "source": [
    "path = \"datasets/data2.csv\"\n",
    "df = pd.read_csv(path)"
   ]
  },
  {
   "cell_type": "code",
   "execution_count": 3,
   "metadata": {},
   "outputs": [
    {
     "name": "stdout",
     "output_type": "stream",
     "text": [
      "<class 'pandas.core.frame.DataFrame'>\n",
      "RangeIndex: 52584 entries, 0 to 52583\n",
      "Data columns (total 7 columns):\n",
      " #   Column     Non-Null Count  Dtype  \n",
      "---  ------     --------------  -----  \n",
      " 0   YEAR       52584 non-null  int64  \n",
      " 1   MO         52584 non-null  int64  \n",
      " 2   DY         52584 non-null  int64  \n",
      " 3   HR         52584 non-null  int64  \n",
      " 4   ALLSKY_KT  52584 non-null  float64\n",
      " 5   T2M        52584 non-null  float64\n",
      " 6   QV2M       52584 non-null  float64\n",
      "dtypes: float64(3), int64(4)\n",
      "memory usage: 2.8 MB\n"
     ]
    }
   ],
   "source": [
    "df.info()"
   ]
  },
  {
   "cell_type": "code",
   "execution_count": 4,
   "metadata": {},
   "outputs": [],
   "source": [
    "dfcpy = df.copy()"
   ]
  },
  {
   "cell_type": "code",
   "execution_count": 5,
   "metadata": {},
   "outputs": [
    {
     "data": {
      "text/html": [
       "<div>\n",
       "<style scoped>\n",
       "    .dataframe tbody tr th:only-of-type {\n",
       "        vertical-align: middle;\n",
       "    }\n",
       "\n",
       "    .dataframe tbody tr th {\n",
       "        vertical-align: top;\n",
       "    }\n",
       "\n",
       "    .dataframe thead th {\n",
       "        text-align: right;\n",
       "    }\n",
       "</style>\n",
       "<table border=\"1\" class=\"dataframe\">\n",
       "  <thead>\n",
       "    <tr style=\"text-align: right;\">\n",
       "      <th></th>\n",
       "      <th>YEAR</th>\n",
       "      <th>MO</th>\n",
       "      <th>DY</th>\n",
       "      <th>HR</th>\n",
       "      <th>ALLSKY_KT</th>\n",
       "      <th>T2M</th>\n",
       "      <th>QV2M</th>\n",
       "    </tr>\n",
       "  </thead>\n",
       "  <tbody>\n",
       "    <tr>\n",
       "      <th>count</th>\n",
       "      <td>52584.000000</td>\n",
       "      <td>52584.000000</td>\n",
       "      <td>52584.000000</td>\n",
       "      <td>52584.000000</td>\n",
       "      <td>52584.000000</td>\n",
       "      <td>52584.000000</td>\n",
       "      <td>52584.000000</td>\n",
       "    </tr>\n",
       "    <tr>\n",
       "      <th>mean</th>\n",
       "      <td>2020.500342</td>\n",
       "      <td>6.523962</td>\n",
       "      <td>15.726609</td>\n",
       "      <td>11.500000</td>\n",
       "      <td>-489.675083</td>\n",
       "      <td>25.501665</td>\n",
       "      <td>11.661901</td>\n",
       "    </tr>\n",
       "    <tr>\n",
       "      <th>std</th>\n",
       "      <td>1.707652</td>\n",
       "      <td>3.448452</td>\n",
       "      <td>8.798896</td>\n",
       "      <td>6.922252</td>\n",
       "      <td>499.658076</td>\n",
       "      <td>6.426816</td>\n",
       "      <td>5.161535</td>\n",
       "    </tr>\n",
       "    <tr>\n",
       "      <th>min</th>\n",
       "      <td>2018.000000</td>\n",
       "      <td>1.000000</td>\n",
       "      <td>1.000000</td>\n",
       "      <td>0.000000</td>\n",
       "      <td>-999.000000</td>\n",
       "      <td>6.430000</td>\n",
       "      <td>1.100000</td>\n",
       "    </tr>\n",
       "    <tr>\n",
       "      <th>25%</th>\n",
       "      <td>2019.000000</td>\n",
       "      <td>4.000000</td>\n",
       "      <td>8.000000</td>\n",
       "      <td>5.750000</td>\n",
       "      <td>-999.000000</td>\n",
       "      <td>21.720000</td>\n",
       "      <td>6.960000</td>\n",
       "    </tr>\n",
       "    <tr>\n",
       "      <th>50%</th>\n",
       "      <td>2020.000000</td>\n",
       "      <td>7.000000</td>\n",
       "      <td>16.000000</td>\n",
       "      <td>11.500000</td>\n",
       "      <td>0.150000</td>\n",
       "      <td>25.115000</td>\n",
       "      <td>11.505000</td>\n",
       "    </tr>\n",
       "    <tr>\n",
       "      <th>75%</th>\n",
       "      <td>2022.000000</td>\n",
       "      <td>10.000000</td>\n",
       "      <td>23.000000</td>\n",
       "      <td>17.250000</td>\n",
       "      <td>0.510000</td>\n",
       "      <td>29.260000</td>\n",
       "      <td>16.780000</td>\n",
       "    </tr>\n",
       "    <tr>\n",
       "      <th>max</th>\n",
       "      <td>2024.000000</td>\n",
       "      <td>12.000000</td>\n",
       "      <td>31.000000</td>\n",
       "      <td>23.000000</td>\n",
       "      <td>0.810000</td>\n",
       "      <td>44.230000</td>\n",
       "      <td>21.610000</td>\n",
       "    </tr>\n",
       "  </tbody>\n",
       "</table>\n",
       "</div>"
      ],
      "text/plain": [
       "               YEAR            MO            DY            HR     ALLSKY_KT  \\\n",
       "count  52584.000000  52584.000000  52584.000000  52584.000000  52584.000000   \n",
       "mean    2020.500342      6.523962     15.726609     11.500000   -489.675083   \n",
       "std        1.707652      3.448452      8.798896      6.922252    499.658076   \n",
       "min     2018.000000      1.000000      1.000000      0.000000   -999.000000   \n",
       "25%     2019.000000      4.000000      8.000000      5.750000   -999.000000   \n",
       "50%     2020.000000      7.000000     16.000000     11.500000      0.150000   \n",
       "75%     2022.000000     10.000000     23.000000     17.250000      0.510000   \n",
       "max     2024.000000     12.000000     31.000000     23.000000      0.810000   \n",
       "\n",
       "                T2M          QV2M  \n",
       "count  52584.000000  52584.000000  \n",
       "mean      25.501665     11.661901  \n",
       "std        6.426816      5.161535  \n",
       "min        6.430000      1.100000  \n",
       "25%       21.720000      6.960000  \n",
       "50%       25.115000     11.505000  \n",
       "75%       29.260000     16.780000  \n",
       "max       44.230000     21.610000  "
      ]
     },
     "execution_count": 5,
     "metadata": {},
     "output_type": "execute_result"
    }
   ],
   "source": [
    "dfcpy.describe()"
   ]
  },
  {
   "cell_type": "code",
   "execution_count": 6,
   "metadata": {},
   "outputs": [],
   "source": [
    "dfcpy.drop(columns=['ALLSKY_KT'], inplace=True)"
   ]
  },
  {
   "cell_type": "code",
   "execution_count": 7,
   "metadata": {},
   "outputs": [
    {
     "data": {
      "text/html": [
       "<div>\n",
       "<style scoped>\n",
       "    .dataframe tbody tr th:only-of-type {\n",
       "        vertical-align: middle;\n",
       "    }\n",
       "\n",
       "    .dataframe tbody tr th {\n",
       "        vertical-align: top;\n",
       "    }\n",
       "\n",
       "    .dataframe thead th {\n",
       "        text-align: right;\n",
       "    }\n",
       "</style>\n",
       "<table border=\"1\" class=\"dataframe\">\n",
       "  <thead>\n",
       "    <tr style=\"text-align: right;\">\n",
       "      <th></th>\n",
       "      <th>YEAR</th>\n",
       "      <th>MO</th>\n",
       "      <th>DY</th>\n",
       "      <th>HR</th>\n",
       "      <th>T2M</th>\n",
       "      <th>QV2M</th>\n",
       "    </tr>\n",
       "  </thead>\n",
       "  <tbody>\n",
       "    <tr>\n",
       "      <th>0</th>\n",
       "      <td>2018</td>\n",
       "      <td>1</td>\n",
       "      <td>1</td>\n",
       "      <td>5</td>\n",
       "      <td>12.14</td>\n",
       "      <td>4.46</td>\n",
       "    </tr>\n",
       "    <tr>\n",
       "      <th>1</th>\n",
       "      <td>2018</td>\n",
       "      <td>1</td>\n",
       "      <td>1</td>\n",
       "      <td>6</td>\n",
       "      <td>11.93</td>\n",
       "      <td>4.46</td>\n",
       "    </tr>\n",
       "    <tr>\n",
       "      <th>2</th>\n",
       "      <td>2018</td>\n",
       "      <td>1</td>\n",
       "      <td>1</td>\n",
       "      <td>7</td>\n",
       "      <td>14.42</td>\n",
       "      <td>4.58</td>\n",
       "    </tr>\n",
       "    <tr>\n",
       "      <th>3</th>\n",
       "      <td>2018</td>\n",
       "      <td>1</td>\n",
       "      <td>1</td>\n",
       "      <td>8</td>\n",
       "      <td>17.50</td>\n",
       "      <td>4.27</td>\n",
       "    </tr>\n",
       "    <tr>\n",
       "      <th>4</th>\n",
       "      <td>2018</td>\n",
       "      <td>1</td>\n",
       "      <td>1</td>\n",
       "      <td>9</td>\n",
       "      <td>22.68</td>\n",
       "      <td>4.27</td>\n",
       "    </tr>\n",
       "    <tr>\n",
       "      <th>...</th>\n",
       "      <td>...</td>\n",
       "      <td>...</td>\n",
       "      <td>...</td>\n",
       "      <td>...</td>\n",
       "      <td>...</td>\n",
       "      <td>...</td>\n",
       "    </tr>\n",
       "    <tr>\n",
       "      <th>52579</th>\n",
       "      <td>2024</td>\n",
       "      <td>1</td>\n",
       "      <td>1</td>\n",
       "      <td>0</td>\n",
       "      <td>16.58</td>\n",
       "      <td>10.25</td>\n",
       "    </tr>\n",
       "    <tr>\n",
       "      <th>52580</th>\n",
       "      <td>2024</td>\n",
       "      <td>1</td>\n",
       "      <td>1</td>\n",
       "      <td>1</td>\n",
       "      <td>15.96</td>\n",
       "      <td>10.25</td>\n",
       "    </tr>\n",
       "    <tr>\n",
       "      <th>52581</th>\n",
       "      <td>2024</td>\n",
       "      <td>1</td>\n",
       "      <td>1</td>\n",
       "      <td>2</td>\n",
       "      <td>15.40</td>\n",
       "      <td>10.25</td>\n",
       "    </tr>\n",
       "    <tr>\n",
       "      <th>52582</th>\n",
       "      <td>2024</td>\n",
       "      <td>1</td>\n",
       "      <td>1</td>\n",
       "      <td>3</td>\n",
       "      <td>14.83</td>\n",
       "      <td>10.25</td>\n",
       "    </tr>\n",
       "    <tr>\n",
       "      <th>52583</th>\n",
       "      <td>2024</td>\n",
       "      <td>1</td>\n",
       "      <td>1</td>\n",
       "      <td>4</td>\n",
       "      <td>14.34</td>\n",
       "      <td>10.31</td>\n",
       "    </tr>\n",
       "  </tbody>\n",
       "</table>\n",
       "<p>52584 rows × 6 columns</p>\n",
       "</div>"
      ],
      "text/plain": [
       "       YEAR  MO  DY  HR    T2M   QV2M\n",
       "0      2018   1   1   5  12.14   4.46\n",
       "1      2018   1   1   6  11.93   4.46\n",
       "2      2018   1   1   7  14.42   4.58\n",
       "3      2018   1   1   8  17.50   4.27\n",
       "4      2018   1   1   9  22.68   4.27\n",
       "...     ...  ..  ..  ..    ...    ...\n",
       "52579  2024   1   1   0  16.58  10.25\n",
       "52580  2024   1   1   1  15.96  10.25\n",
       "52581  2024   1   1   2  15.40  10.25\n",
       "52582  2024   1   1   3  14.83  10.25\n",
       "52583  2024   1   1   4  14.34  10.31\n",
       "\n",
       "[52584 rows x 6 columns]"
      ]
     },
     "execution_count": 7,
     "metadata": {},
     "output_type": "execute_result"
    }
   ],
   "source": [
    "dfcpy\n"
   ]
  },
  {
   "cell_type": "code",
   "execution_count": 8,
   "metadata": {},
   "outputs": [],
   "source": [
    "cols=[\"YEAR\",\"MO\",\"DY\"]\n",
    "dfcpy['DATE'] = dfcpy[cols].apply(lambda x: '-'.join(x.values.astype(str)), axis=\"columns\")"
   ]
  },
  {
   "cell_type": "code",
   "execution_count": 9,
   "metadata": {},
   "outputs": [],
   "source": [
    "\t\n",
    "# dfcpy['DATE']=pd.to_datetime(dfcpy['DATE'])"
   ]
  },
  {
   "cell_type": "code",
   "execution_count": 10,
   "metadata": {},
   "outputs": [
    {
     "data": {
      "text/html": [
       "<div>\n",
       "<style scoped>\n",
       "    .dataframe tbody tr th:only-of-type {\n",
       "        vertical-align: middle;\n",
       "    }\n",
       "\n",
       "    .dataframe tbody tr th {\n",
       "        vertical-align: top;\n",
       "    }\n",
       "\n",
       "    .dataframe thead th {\n",
       "        text-align: right;\n",
       "    }\n",
       "</style>\n",
       "<table border=\"1\" class=\"dataframe\">\n",
       "  <thead>\n",
       "    <tr style=\"text-align: right;\">\n",
       "      <th></th>\n",
       "      <th>YEAR</th>\n",
       "      <th>MO</th>\n",
       "      <th>DY</th>\n",
       "      <th>HR</th>\n",
       "      <th>T2M</th>\n",
       "      <th>QV2M</th>\n",
       "      <th>DATE</th>\n",
       "    </tr>\n",
       "  </thead>\n",
       "  <tbody>\n",
       "    <tr>\n",
       "      <th>0</th>\n",
       "      <td>2018</td>\n",
       "      <td>1</td>\n",
       "      <td>1</td>\n",
       "      <td>5</td>\n",
       "      <td>12.14</td>\n",
       "      <td>4.46</td>\n",
       "      <td>2018-1-1</td>\n",
       "    </tr>\n",
       "    <tr>\n",
       "      <th>1</th>\n",
       "      <td>2018</td>\n",
       "      <td>1</td>\n",
       "      <td>1</td>\n",
       "      <td>6</td>\n",
       "      <td>11.93</td>\n",
       "      <td>4.46</td>\n",
       "      <td>2018-1-1</td>\n",
       "    </tr>\n",
       "    <tr>\n",
       "      <th>2</th>\n",
       "      <td>2018</td>\n",
       "      <td>1</td>\n",
       "      <td>1</td>\n",
       "      <td>7</td>\n",
       "      <td>14.42</td>\n",
       "      <td>4.58</td>\n",
       "      <td>2018-1-1</td>\n",
       "    </tr>\n",
       "    <tr>\n",
       "      <th>3</th>\n",
       "      <td>2018</td>\n",
       "      <td>1</td>\n",
       "      <td>1</td>\n",
       "      <td>8</td>\n",
       "      <td>17.50</td>\n",
       "      <td>4.27</td>\n",
       "      <td>2018-1-1</td>\n",
       "    </tr>\n",
       "    <tr>\n",
       "      <th>4</th>\n",
       "      <td>2018</td>\n",
       "      <td>1</td>\n",
       "      <td>1</td>\n",
       "      <td>9</td>\n",
       "      <td>22.68</td>\n",
       "      <td>4.27</td>\n",
       "      <td>2018-1-1</td>\n",
       "    </tr>\n",
       "    <tr>\n",
       "      <th>...</th>\n",
       "      <td>...</td>\n",
       "      <td>...</td>\n",
       "      <td>...</td>\n",
       "      <td>...</td>\n",
       "      <td>...</td>\n",
       "      <td>...</td>\n",
       "      <td>...</td>\n",
       "    </tr>\n",
       "    <tr>\n",
       "      <th>52579</th>\n",
       "      <td>2024</td>\n",
       "      <td>1</td>\n",
       "      <td>1</td>\n",
       "      <td>0</td>\n",
       "      <td>16.58</td>\n",
       "      <td>10.25</td>\n",
       "      <td>2024-1-1</td>\n",
       "    </tr>\n",
       "    <tr>\n",
       "      <th>52580</th>\n",
       "      <td>2024</td>\n",
       "      <td>1</td>\n",
       "      <td>1</td>\n",
       "      <td>1</td>\n",
       "      <td>15.96</td>\n",
       "      <td>10.25</td>\n",
       "      <td>2024-1-1</td>\n",
       "    </tr>\n",
       "    <tr>\n",
       "      <th>52581</th>\n",
       "      <td>2024</td>\n",
       "      <td>1</td>\n",
       "      <td>1</td>\n",
       "      <td>2</td>\n",
       "      <td>15.40</td>\n",
       "      <td>10.25</td>\n",
       "      <td>2024-1-1</td>\n",
       "    </tr>\n",
       "    <tr>\n",
       "      <th>52582</th>\n",
       "      <td>2024</td>\n",
       "      <td>1</td>\n",
       "      <td>1</td>\n",
       "      <td>3</td>\n",
       "      <td>14.83</td>\n",
       "      <td>10.25</td>\n",
       "      <td>2024-1-1</td>\n",
       "    </tr>\n",
       "    <tr>\n",
       "      <th>52583</th>\n",
       "      <td>2024</td>\n",
       "      <td>1</td>\n",
       "      <td>1</td>\n",
       "      <td>4</td>\n",
       "      <td>14.34</td>\n",
       "      <td>10.31</td>\n",
       "      <td>2024-1-1</td>\n",
       "    </tr>\n",
       "  </tbody>\n",
       "</table>\n",
       "<p>52584 rows × 7 columns</p>\n",
       "</div>"
      ],
      "text/plain": [
       "       YEAR  MO  DY  HR    T2M   QV2M      DATE\n",
       "0      2018   1   1   5  12.14   4.46  2018-1-1\n",
       "1      2018   1   1   6  11.93   4.46  2018-1-1\n",
       "2      2018   1   1   7  14.42   4.58  2018-1-1\n",
       "3      2018   1   1   8  17.50   4.27  2018-1-1\n",
       "4      2018   1   1   9  22.68   4.27  2018-1-1\n",
       "...     ...  ..  ..  ..    ...    ...       ...\n",
       "52579  2024   1   1   0  16.58  10.25  2024-1-1\n",
       "52580  2024   1   1   1  15.96  10.25  2024-1-1\n",
       "52581  2024   1   1   2  15.40  10.25  2024-1-1\n",
       "52582  2024   1   1   3  14.83  10.25  2024-1-1\n",
       "52583  2024   1   1   4  14.34  10.31  2024-1-1\n",
       "\n",
       "[52584 rows x 7 columns]"
      ]
     },
     "execution_count": 10,
     "metadata": {},
     "output_type": "execute_result"
    }
   ],
   "source": [
    "dfcpy"
   ]
  },
  {
   "cell_type": "code",
   "execution_count": 11,
   "metadata": {},
   "outputs": [],
   "source": [
    "dfcpy['DATETIME'] = pd.to_datetime(dfcpy['DATE'] + ' ' + dfcpy['HR'].astype(str) + ':00:00', format='%Y-%m-%d %H:%M:%S')"
   ]
  },
  {
   "cell_type": "code",
   "execution_count": 12,
   "metadata": {},
   "outputs": [
    {
     "data": {
      "text/html": [
       "<div>\n",
       "<style scoped>\n",
       "    .dataframe tbody tr th:only-of-type {\n",
       "        vertical-align: middle;\n",
       "    }\n",
       "\n",
       "    .dataframe tbody tr th {\n",
       "        vertical-align: top;\n",
       "    }\n",
       "\n",
       "    .dataframe thead th {\n",
       "        text-align: right;\n",
       "    }\n",
       "</style>\n",
       "<table border=\"1\" class=\"dataframe\">\n",
       "  <thead>\n",
       "    <tr style=\"text-align: right;\">\n",
       "      <th></th>\n",
       "      <th>YEAR</th>\n",
       "      <th>MO</th>\n",
       "      <th>DY</th>\n",
       "      <th>HR</th>\n",
       "      <th>T2M</th>\n",
       "      <th>QV2M</th>\n",
       "      <th>DATE</th>\n",
       "      <th>DATETIME</th>\n",
       "    </tr>\n",
       "  </thead>\n",
       "  <tbody>\n",
       "    <tr>\n",
       "      <th>0</th>\n",
       "      <td>2018</td>\n",
       "      <td>1</td>\n",
       "      <td>1</td>\n",
       "      <td>5</td>\n",
       "      <td>12.14</td>\n",
       "      <td>4.46</td>\n",
       "      <td>2018-1-1</td>\n",
       "      <td>2018-01-01 05:00:00</td>\n",
       "    </tr>\n",
       "    <tr>\n",
       "      <th>1</th>\n",
       "      <td>2018</td>\n",
       "      <td>1</td>\n",
       "      <td>1</td>\n",
       "      <td>6</td>\n",
       "      <td>11.93</td>\n",
       "      <td>4.46</td>\n",
       "      <td>2018-1-1</td>\n",
       "      <td>2018-01-01 06:00:00</td>\n",
       "    </tr>\n",
       "    <tr>\n",
       "      <th>2</th>\n",
       "      <td>2018</td>\n",
       "      <td>1</td>\n",
       "      <td>1</td>\n",
       "      <td>7</td>\n",
       "      <td>14.42</td>\n",
       "      <td>4.58</td>\n",
       "      <td>2018-1-1</td>\n",
       "      <td>2018-01-01 07:00:00</td>\n",
       "    </tr>\n",
       "    <tr>\n",
       "      <th>3</th>\n",
       "      <td>2018</td>\n",
       "      <td>1</td>\n",
       "      <td>1</td>\n",
       "      <td>8</td>\n",
       "      <td>17.50</td>\n",
       "      <td>4.27</td>\n",
       "      <td>2018-1-1</td>\n",
       "      <td>2018-01-01 08:00:00</td>\n",
       "    </tr>\n",
       "    <tr>\n",
       "      <th>4</th>\n",
       "      <td>2018</td>\n",
       "      <td>1</td>\n",
       "      <td>1</td>\n",
       "      <td>9</td>\n",
       "      <td>22.68</td>\n",
       "      <td>4.27</td>\n",
       "      <td>2018-1-1</td>\n",
       "      <td>2018-01-01 09:00:00</td>\n",
       "    </tr>\n",
       "    <tr>\n",
       "      <th>...</th>\n",
       "      <td>...</td>\n",
       "      <td>...</td>\n",
       "      <td>...</td>\n",
       "      <td>...</td>\n",
       "      <td>...</td>\n",
       "      <td>...</td>\n",
       "      <td>...</td>\n",
       "      <td>...</td>\n",
       "    </tr>\n",
       "    <tr>\n",
       "      <th>52579</th>\n",
       "      <td>2024</td>\n",
       "      <td>1</td>\n",
       "      <td>1</td>\n",
       "      <td>0</td>\n",
       "      <td>16.58</td>\n",
       "      <td>10.25</td>\n",
       "      <td>2024-1-1</td>\n",
       "      <td>2024-01-01 00:00:00</td>\n",
       "    </tr>\n",
       "    <tr>\n",
       "      <th>52580</th>\n",
       "      <td>2024</td>\n",
       "      <td>1</td>\n",
       "      <td>1</td>\n",
       "      <td>1</td>\n",
       "      <td>15.96</td>\n",
       "      <td>10.25</td>\n",
       "      <td>2024-1-1</td>\n",
       "      <td>2024-01-01 01:00:00</td>\n",
       "    </tr>\n",
       "    <tr>\n",
       "      <th>52581</th>\n",
       "      <td>2024</td>\n",
       "      <td>1</td>\n",
       "      <td>1</td>\n",
       "      <td>2</td>\n",
       "      <td>15.40</td>\n",
       "      <td>10.25</td>\n",
       "      <td>2024-1-1</td>\n",
       "      <td>2024-01-01 02:00:00</td>\n",
       "    </tr>\n",
       "    <tr>\n",
       "      <th>52582</th>\n",
       "      <td>2024</td>\n",
       "      <td>1</td>\n",
       "      <td>1</td>\n",
       "      <td>3</td>\n",
       "      <td>14.83</td>\n",
       "      <td>10.25</td>\n",
       "      <td>2024-1-1</td>\n",
       "      <td>2024-01-01 03:00:00</td>\n",
       "    </tr>\n",
       "    <tr>\n",
       "      <th>52583</th>\n",
       "      <td>2024</td>\n",
       "      <td>1</td>\n",
       "      <td>1</td>\n",
       "      <td>4</td>\n",
       "      <td>14.34</td>\n",
       "      <td>10.31</td>\n",
       "      <td>2024-1-1</td>\n",
       "      <td>2024-01-01 04:00:00</td>\n",
       "    </tr>\n",
       "  </tbody>\n",
       "</table>\n",
       "<p>52584 rows × 8 columns</p>\n",
       "</div>"
      ],
      "text/plain": [
       "       YEAR  MO  DY  HR    T2M   QV2M      DATE            DATETIME\n",
       "0      2018   1   1   5  12.14   4.46  2018-1-1 2018-01-01 05:00:00\n",
       "1      2018   1   1   6  11.93   4.46  2018-1-1 2018-01-01 06:00:00\n",
       "2      2018   1   1   7  14.42   4.58  2018-1-1 2018-01-01 07:00:00\n",
       "3      2018   1   1   8  17.50   4.27  2018-1-1 2018-01-01 08:00:00\n",
       "4      2018   1   1   9  22.68   4.27  2018-1-1 2018-01-01 09:00:00\n",
       "...     ...  ..  ..  ..    ...    ...       ...                 ...\n",
       "52579  2024   1   1   0  16.58  10.25  2024-1-1 2024-01-01 00:00:00\n",
       "52580  2024   1   1   1  15.96  10.25  2024-1-1 2024-01-01 01:00:00\n",
       "52581  2024   1   1   2  15.40  10.25  2024-1-1 2024-01-01 02:00:00\n",
       "52582  2024   1   1   3  14.83  10.25  2024-1-1 2024-01-01 03:00:00\n",
       "52583  2024   1   1   4  14.34  10.31  2024-1-1 2024-01-01 04:00:00\n",
       "\n",
       "[52584 rows x 8 columns]"
      ]
     },
     "execution_count": 12,
     "metadata": {},
     "output_type": "execute_result"
    }
   ],
   "source": [
    "dfcpy"
   ]
  },
  {
   "cell_type": "code",
   "execution_count": 13,
   "metadata": {},
   "outputs": [],
   "source": [
    "dfcpy.drop(columns=['YEAR', 'DY', 'MO', 'HR'], inplace=True)"
   ]
  },
  {
   "cell_type": "code",
   "execution_count": 14,
   "metadata": {},
   "outputs": [],
   "source": [
    "dfcpy.drop(columns=['DATE'], inplace=True)"
   ]
  },
  {
   "cell_type": "code",
   "execution_count": 15,
   "metadata": {},
   "outputs": [
    {
     "data": {
      "text/html": [
       "<div>\n",
       "<style scoped>\n",
       "    .dataframe tbody tr th:only-of-type {\n",
       "        vertical-align: middle;\n",
       "    }\n",
       "\n",
       "    .dataframe tbody tr th {\n",
       "        vertical-align: top;\n",
       "    }\n",
       "\n",
       "    .dataframe thead th {\n",
       "        text-align: right;\n",
       "    }\n",
       "</style>\n",
       "<table border=\"1\" class=\"dataframe\">\n",
       "  <thead>\n",
       "    <tr style=\"text-align: right;\">\n",
       "      <th></th>\n",
       "      <th>T2M</th>\n",
       "      <th>QV2M</th>\n",
       "      <th>DATETIME</th>\n",
       "    </tr>\n",
       "  </thead>\n",
       "  <tbody>\n",
       "    <tr>\n",
       "      <th>0</th>\n",
       "      <td>12.14</td>\n",
       "      <td>4.46</td>\n",
       "      <td>2018-01-01 05:00:00</td>\n",
       "    </tr>\n",
       "    <tr>\n",
       "      <th>1</th>\n",
       "      <td>11.93</td>\n",
       "      <td>4.46</td>\n",
       "      <td>2018-01-01 06:00:00</td>\n",
       "    </tr>\n",
       "    <tr>\n",
       "      <th>2</th>\n",
       "      <td>14.42</td>\n",
       "      <td>4.58</td>\n",
       "      <td>2018-01-01 07:00:00</td>\n",
       "    </tr>\n",
       "    <tr>\n",
       "      <th>3</th>\n",
       "      <td>17.50</td>\n",
       "      <td>4.27</td>\n",
       "      <td>2018-01-01 08:00:00</td>\n",
       "    </tr>\n",
       "    <tr>\n",
       "      <th>4</th>\n",
       "      <td>22.68</td>\n",
       "      <td>4.27</td>\n",
       "      <td>2018-01-01 09:00:00</td>\n",
       "    </tr>\n",
       "    <tr>\n",
       "      <th>...</th>\n",
       "      <td>...</td>\n",
       "      <td>...</td>\n",
       "      <td>...</td>\n",
       "    </tr>\n",
       "    <tr>\n",
       "      <th>52579</th>\n",
       "      <td>16.58</td>\n",
       "      <td>10.25</td>\n",
       "      <td>2024-01-01 00:00:00</td>\n",
       "    </tr>\n",
       "    <tr>\n",
       "      <th>52580</th>\n",
       "      <td>15.96</td>\n",
       "      <td>10.25</td>\n",
       "      <td>2024-01-01 01:00:00</td>\n",
       "    </tr>\n",
       "    <tr>\n",
       "      <th>52581</th>\n",
       "      <td>15.40</td>\n",
       "      <td>10.25</td>\n",
       "      <td>2024-01-01 02:00:00</td>\n",
       "    </tr>\n",
       "    <tr>\n",
       "      <th>52582</th>\n",
       "      <td>14.83</td>\n",
       "      <td>10.25</td>\n",
       "      <td>2024-01-01 03:00:00</td>\n",
       "    </tr>\n",
       "    <tr>\n",
       "      <th>52583</th>\n",
       "      <td>14.34</td>\n",
       "      <td>10.31</td>\n",
       "      <td>2024-01-01 04:00:00</td>\n",
       "    </tr>\n",
       "  </tbody>\n",
       "</table>\n",
       "<p>52584 rows × 3 columns</p>\n",
       "</div>"
      ],
      "text/plain": [
       "         T2M   QV2M            DATETIME\n",
       "0      12.14   4.46 2018-01-01 05:00:00\n",
       "1      11.93   4.46 2018-01-01 06:00:00\n",
       "2      14.42   4.58 2018-01-01 07:00:00\n",
       "3      17.50   4.27 2018-01-01 08:00:00\n",
       "4      22.68   4.27 2018-01-01 09:00:00\n",
       "...      ...    ...                 ...\n",
       "52579  16.58  10.25 2024-01-01 00:00:00\n",
       "52580  15.96  10.25 2024-01-01 01:00:00\n",
       "52581  15.40  10.25 2024-01-01 02:00:00\n",
       "52582  14.83  10.25 2024-01-01 03:00:00\n",
       "52583  14.34  10.31 2024-01-01 04:00:00\n",
       "\n",
       "[52584 rows x 3 columns]"
      ]
     },
     "execution_count": 15,
     "metadata": {},
     "output_type": "execute_result"
    }
   ],
   "source": [
    "dfcpy"
   ]
  },
  {
   "cell_type": "code",
   "execution_count": 16,
   "metadata": {},
   "outputs": [
    {
     "name": "stdout",
     "output_type": "stream",
     "text": [
      "<class 'pandas.core.frame.DataFrame'>\n",
      "RangeIndex: 52584 entries, 0 to 52583\n",
      "Data columns (total 3 columns):\n",
      " #   Column    Non-Null Count  Dtype         \n",
      "---  ------    --------------  -----         \n",
      " 0   T2M       52584 non-null  float64       \n",
      " 1   QV2M      52584 non-null  float64       \n",
      " 2   DATETIME  52584 non-null  datetime64[ns]\n",
      "dtypes: datetime64[ns](1), float64(2)\n",
      "memory usage: 1.2 MB\n"
     ]
    }
   ],
   "source": [
    "dfcpy.info()"
   ]
  },
  {
   "cell_type": "code",
   "execution_count": 17,
   "metadata": {},
   "outputs": [
    {
     "data": {
      "text/html": [
       "<div>\n",
       "<style scoped>\n",
       "    .dataframe tbody tr th:only-of-type {\n",
       "        vertical-align: middle;\n",
       "    }\n",
       "\n",
       "    .dataframe tbody tr th {\n",
       "        vertical-align: top;\n",
       "    }\n",
       "\n",
       "    .dataframe thead th {\n",
       "        text-align: right;\n",
       "    }\n",
       "</style>\n",
       "<table border=\"1\" class=\"dataframe\">\n",
       "  <thead>\n",
       "    <tr style=\"text-align: right;\">\n",
       "      <th></th>\n",
       "      <th>T2M</th>\n",
       "      <th>QV2M</th>\n",
       "      <th>DATETIME</th>\n",
       "    </tr>\n",
       "  </thead>\n",
       "  <tbody>\n",
       "    <tr>\n",
       "      <th>count</th>\n",
       "      <td>52584.000000</td>\n",
       "      <td>52584.000000</td>\n",
       "      <td>52584</td>\n",
       "    </tr>\n",
       "    <tr>\n",
       "      <th>mean</th>\n",
       "      <td>25.501665</td>\n",
       "      <td>11.661901</td>\n",
       "      <td>2020-12-31 16:30:00</td>\n",
       "    </tr>\n",
       "    <tr>\n",
       "      <th>min</th>\n",
       "      <td>6.430000</td>\n",
       "      <td>1.100000</td>\n",
       "      <td>2018-01-01 05:00:00</td>\n",
       "    </tr>\n",
       "    <tr>\n",
       "      <th>25%</th>\n",
       "      <td>21.720000</td>\n",
       "      <td>6.960000</td>\n",
       "      <td>2019-07-02 22:45:00</td>\n",
       "    </tr>\n",
       "    <tr>\n",
       "      <th>50%</th>\n",
       "      <td>25.115000</td>\n",
       "      <td>11.505000</td>\n",
       "      <td>2020-12-31 16:30:00</td>\n",
       "    </tr>\n",
       "    <tr>\n",
       "      <th>75%</th>\n",
       "      <td>29.260000</td>\n",
       "      <td>16.780000</td>\n",
       "      <td>2022-07-02 10:15:00</td>\n",
       "    </tr>\n",
       "    <tr>\n",
       "      <th>max</th>\n",
       "      <td>44.230000</td>\n",
       "      <td>21.610000</td>\n",
       "      <td>2024-01-01 04:00:00</td>\n",
       "    </tr>\n",
       "    <tr>\n",
       "      <th>std</th>\n",
       "      <td>6.426816</td>\n",
       "      <td>5.161535</td>\n",
       "      <td>NaN</td>\n",
       "    </tr>\n",
       "  </tbody>\n",
       "</table>\n",
       "</div>"
      ],
      "text/plain": [
       "                T2M          QV2M             DATETIME\n",
       "count  52584.000000  52584.000000                52584\n",
       "mean      25.501665     11.661901  2020-12-31 16:30:00\n",
       "min        6.430000      1.100000  2018-01-01 05:00:00\n",
       "25%       21.720000      6.960000  2019-07-02 22:45:00\n",
       "50%       25.115000     11.505000  2020-12-31 16:30:00\n",
       "75%       29.260000     16.780000  2022-07-02 10:15:00\n",
       "max       44.230000     21.610000  2024-01-01 04:00:00\n",
       "std        6.426816      5.161535                  NaN"
      ]
     },
     "execution_count": 17,
     "metadata": {},
     "output_type": "execute_result"
    }
   ],
   "source": [
    "dfcpy.describe()"
   ]
  },
  {
   "cell_type": "code",
   "execution_count": 18,
   "metadata": {},
   "outputs": [
    {
     "data": {
      "text/plain": [
       "<Axes: >"
      ]
     },
     "execution_count": 18,
     "metadata": {},
     "output_type": "execute_result"
    },
    {
     "data": {
      "image/png": "[encoded data removed]",
      "text/plain": [
       "<Figure size 640x480 with 1 Axes>"
      ]
     },
     "metadata": {},
     "output_type": "display_data"
    }
   ],
   "source": [
    "temp = dfcpy['T2M']\n",
    "dfcpy['T2M'].plot()"
   ]
  },
  {
   "cell_type": "code",
   "execution_count": 19,
   "metadata": {},
   "outputs": [],
   "source": [
    "def df_to_X_y(df, window_size=5):\n",
    "  df_as_np = df.to_numpy()\n",
    "  X = []\n",
    "  y = []\n",
    "  for i in range(len(df_as_np)-window_size):\n",
    "    row = [[a] for a in df_as_np[i:i+window_size]]\n",
    "    X.append(row)\n",
    "    label = df_as_np[i+window_size]\n",
    "    y.append(label)\n",
    "  return np.array(X), np.array(y)"
   ]
  },
  {
   "cell_type": "code",
   "execution_count": 20,
   "metadata": {},
   "outputs": [
    {
     "data": {
      "text/plain": [
       "((52579, 5, 1), (52579,))"
      ]
     },
     "execution_count": 20,
     "metadata": {},
     "output_type": "execute_result"
    }
   ],
   "source": [
    "WINDOW_SIZE = 5\n",
    "X1, y1 = df_to_X_y(temp, WINDOW_SIZE)\n",
    "X1.shape, y1.shape"
   ]
  },
  {
   "cell_type": "code",
   "execution_count": 21,
   "metadata": {},
   "outputs": [
    {
     "data": {
      "text/plain": [
       "((50000, 5, 1), (50000,), (1000, 5, 1), (1000,), (1579, 5, 1), (1579,))"
      ]
     },
     "execution_count": 21,
     "metadata": {},
     "output_type": "execute_result"
    }
   ],
   "source": [
    "X_train1, y_train1 = X1[:50000], y1[:50000]\n",
    "X_val1, y_val1 = X1[50000:51000], y1[50000:51000]\n",
    "X_test1, y_test1 = X1[51000:], y1[51000:]\n",
    "X_train1.shape, y_train1.shape, X_val1.shape, y_val1.shape, X_test1.shape, y_test1.shape"
   ]
  },
  {
   "cell_type": "code",
   "execution_count": 23,
   "metadata": {},
   "outputs": [],
   "source": [
    "import tensorflow as tf\n",
    "from tensorflow.keras.models import Sequential\n",
    "from tensorflow.keras.layers import *\n",
    "from tensorflow.keras.callbacks import ModelCheckpoint\n",
    "from tensorflow.keras.losses import MeanSquaredError\n",
    "from tensorflow.keras.metrics import RootMeanSquaredError\n",
    "from tensorflow.keras.optimizers import Adam"
   ]
  },
  {
   "cell_type": "code",
   "execution_count": 24,
   "metadata": {},
   "outputs": [
    {
     "name": "stdout",
     "output_type": "stream",
     "text": [
      "WARNING:tensorflow:From e:\\Projects\\Visionathon\\venv\\Lib\\site-packages\\keras\\src\\backend.py:873: The name tf.get_default_graph is deprecated. Please use tf.compat.v1.get_default_graph instead.\n",
      "\n",
      "Model: \"sequential\"\n",
      "_________________________________________________________________\n",
      " Layer (type)                Output Shape              Param #   \n",
      "=================================================================\n",
      " lstm (LSTM)                 (None, 64)                16896     \n",
      "                                                                 \n",
      " dense (Dense)               (None, 8)                 520       \n",
      "                                                                 \n",
      " dense_1 (Dense)             (None, 1)                 9         \n",
      "                                                                 \n",
      "=================================================================\n",
      "Total params: 17425 (68.07 KB)\n",
      "Trainable params: 17425 (68.07 KB)\n",
      "Non-trainable params: 0 (0.00 Byte)\n",
      "_________________________________________________________________\n"
     ]
    }
   ],
   "source": [
    "model1 = Sequential()\n",
    "model1.add(InputLayer((5, 1)))\n",
    "model1.add(LSTM(64))\n",
    "model1.add(Dense(8, 'relu'))\n",
    "model1.add(Dense(1, 'linear'))\n",
    "\n",
    "model1.summary()\n",
    "cp1 = ModelCheckpoint('model1/', save_best_only=True)\n",
    "# this was temp haryana!!!!\n",
    "model1.compile(loss=MeanSquaredError(), optimizer=Adam(learning_rate=0.0001), metrics=[RootMeanSquaredError()])"
   ]
  },
  {
   "cell_type": "code",
   "execution_count": 25,
   "metadata": {},
   "outputs": [
    {
     "name": "stdout",
     "output_type": "stream",
     "text": [
      "Epoch 1/10\n",
      "WARNING:tensorflow:From e:\\Projects\\Visionathon\\venv\\Lib\\site-packages\\keras\\src\\utils\\tf_utils.py:492: The name tf.ragged.RaggedTensorValue is deprecated. Please use tf.compat.v1.ragged.RaggedTensorValue instead.\n",
      "\n",
      "1554/1563 [============================>.] - ETA: 0s - loss: 364.8758 - root_mean_squared_error: 19.1017INFO:tensorflow:Assets written to: temp_haryana\\assets\n"
     ]
    },
    {
     "name": "stderr",
     "output_type": "stream",
     "text": [
      "INFO:tensorflow:Assets written to: temp_haryana\\assets\n"
     ]
    },
    {
     "name": "stdout",
     "output_type": "stream",
     "text": [
      "1563/1563 [==============================] - 11s 5ms/step - loss: 363.3759 - root_mean_squared_error: 19.0624 - val_loss: 51.4460 - val_root_mean_squared_error: 7.1726\n",
      "Epoch 2/10\n",
      "1563/1563 [==============================] - ETA: 0s - loss: 42.2277 - root_mean_squared_error: 6.4983INFO:tensorflow:Assets written to: temp_haryana\\assets\n"
     ]
    },
    {
     "name": "stderr",
     "output_type": "stream",
     "text": [
      "INFO:tensorflow:Assets written to: temp_haryana\\assets\n"
     ]
    },
    {
     "name": "stdout",
     "output_type": "stream",
     "text": [
      "1563/1563 [==============================] - 8s 5ms/step - loss: 42.2277 - root_mean_squared_error: 6.4983 - val_loss: 2.6851 - val_root_mean_squared_error: 1.6386\n",
      "Epoch 3/10\n",
      "1554/1563 [============================>.] - ETA: 0s - loss: 7.1056 - root_mean_squared_error: 2.6656INFO:tensorflow:Assets written to: temp_haryana\\assets\n"
     ]
    },
    {
     "name": "stderr",
     "output_type": "stream",
     "text": [
      "INFO:tensorflow:Assets written to: temp_haryana\\assets\n"
     ]
    },
    {
     "name": "stdout",
     "output_type": "stream",
     "text": [
      "1563/1563 [==============================] - 8s 5ms/step - loss: 7.0851 - root_mean_squared_error: 2.6618 - val_loss: 0.4374 - val_root_mean_squared_error: 0.6614\n",
      "Epoch 4/10\n",
      "1550/1563 [============================>.] - ETA: 0s - loss: 1.7695 - root_mean_squared_error: 1.3302INFO:tensorflow:Assets written to: temp_haryana\\assets\n"
     ]
    },
    {
     "name": "stderr",
     "output_type": "stream",
     "text": [
      "INFO:tensorflow:Assets written to: temp_haryana\\assets\n"
     ]
    },
    {
     "name": "stdout",
     "output_type": "stream",
     "text": [
      "1563/1563 [==============================] - 8s 5ms/step - loss: 1.7634 - root_mean_squared_error: 1.3279 - val_loss: 0.2922 - val_root_mean_squared_error: 0.5405\n",
      "Epoch 5/10\n",
      "1555/1563 [============================>.] - ETA: 0s - loss: 0.7806 - root_mean_squared_error: 0.8835INFO:tensorflow:Assets written to: temp_haryana\\assets\n"
     ]
    },
    {
     "name": "stderr",
     "output_type": "stream",
     "text": [
      "INFO:tensorflow:Assets written to: temp_haryana\\assets\n"
     ]
    },
    {
     "name": "stdout",
     "output_type": "stream",
     "text": [
      "1563/1563 [==============================] - 8s 5ms/step - loss: 0.7804 - root_mean_squared_error: 0.8834 - val_loss: 0.2556 - val_root_mean_squared_error: 0.5056\n",
      "Epoch 6/10\n",
      "1561/1563 [============================>.] - ETA: 0s - loss: 0.5199 - root_mean_squared_error: 0.7210INFO:tensorflow:Assets written to: temp_haryana\\assets\n"
     ]
    },
    {
     "name": "stderr",
     "output_type": "stream",
     "text": [
      "INFO:tensorflow:Assets written to: temp_haryana\\assets\n"
     ]
    },
    {
     "name": "stdout",
     "output_type": "stream",
     "text": [
      "1563/1563 [==============================] - 8s 5ms/step - loss: 0.5197 - root_mean_squared_error: 0.7209 - val_loss: 0.2489 - val_root_mean_squared_error: 0.4989\n",
      "Epoch 7/10\n",
      "1558/1563 [============================>.] - ETA: 0s - loss: 0.4163 - root_mean_squared_error: 0.6452INFO:tensorflow:Assets written to: temp_haryana\\assets\n"
     ]
    },
    {
     "name": "stderr",
     "output_type": "stream",
     "text": [
      "INFO:tensorflow:Assets written to: temp_haryana\\assets\n"
     ]
    },
    {
     "name": "stdout",
     "output_type": "stream",
     "text": [
      "1563/1563 [==============================] - 8s 5ms/step - loss: 0.4160 - root_mean_squared_error: 0.6450 - val_loss: 0.2026 - val_root_mean_squared_error: 0.4501\n",
      "Epoch 8/10\n",
      "1562/1563 [============================>.] - ETA: 0s - loss: 0.3674 - root_mean_squared_error: 0.6062INFO:tensorflow:Assets written to: temp_haryana\\assets\n"
     ]
    },
    {
     "name": "stderr",
     "output_type": "stream",
     "text": [
      "INFO:tensorflow:Assets written to: temp_haryana\\assets\n"
     ]
    },
    {
     "name": "stdout",
     "output_type": "stream",
     "text": [
      "1563/1563 [==============================] - 8s 5ms/step - loss: 0.3675 - root_mean_squared_error: 0.6062 - val_loss: 0.1874 - val_root_mean_squared_error: 0.4329\n",
      "Epoch 9/10\n",
      "1550/1563 [============================>.] - ETA: 0s - loss: 0.3440 - root_mean_squared_error: 0.5865INFO:tensorflow:Assets written to: temp_haryana\\assets\n"
     ]
    },
    {
     "name": "stderr",
     "output_type": "stream",
     "text": [
      "INFO:tensorflow:Assets written to: temp_haryana\\assets\n"
     ]
    },
    {
     "name": "stdout",
     "output_type": "stream",
     "text": [
      "1563/1563 [==============================] - 8s 5ms/step - loss: 0.3443 - root_mean_squared_error: 0.5867 - val_loss: 0.1839 - val_root_mean_squared_error: 0.4288\n",
      "Epoch 10/10\n",
      "1559/1563 [============================>.] - ETA: 0s - loss: 0.3298 - root_mean_squared_error: 0.5743INFO:tensorflow:Assets written to: temp_haryana\\assets\n"
     ]
    },
    {
     "name": "stderr",
     "output_type": "stream",
     "text": [
      "INFO:tensorflow:Assets written to: temp_haryana\\assets\n"
     ]
    },
    {
     "name": "stdout",
     "output_type": "stream",
     "text": [
      "1563/1563 [==============================] - 8s 5ms/step - loss: 0.3299 - root_mean_squared_error: 0.5743 - val_loss: 0.1785 - val_root_mean_squared_error: 0.4225\n"
     ]
    },
    {
     "data": {
      "text/plain": [
       "<keras.src.callbacks.History at 0x19f3658b510>"
      ]
     },
     "execution_count": 25,
     "metadata": {},
     "output_type": "execute_result"
    }
   ],
   "source": [
    "model1.fit(X_train1, y_train1, validation_data=(X_val1, y_val1), epochs=10, callbacks=[cp1])"
   ]
  },
  {
   "cell_type": "code",
   "execution_count": 36,
   "metadata": {},
   "outputs": [],
   "source": [
    "from tensorflow.keras.models import load_model\n",
    "model1 = load_model('temp_haryana/')"
   ]
  },
  {
   "cell_type": "code",
   "execution_count": 37,
   "metadata": {},
   "outputs": [
    {
     "name": "stdout",
     "output_type": "stream",
     "text": [
      "50/50 [==============================] - 1s 2ms/step\n"
     ]
    },
    {
     "data": {
      "text/html": [
       "<div>\n",
       "<style scoped>\n",
       "    .dataframe tbody tr th:only-of-type {\n",
       "        vertical-align: middle;\n",
       "    }\n",
       "\n",
       "    .dataframe tbody tr th {\n",
       "        vertical-align: top;\n",
       "    }\n",
       "\n",
       "    .dataframe thead th {\n",
       "        text-align: right;\n",
       "    }\n",
       "</style>\n",
       "<table border=\"1\" class=\"dataframe\">\n",
       "  <thead>\n",
       "    <tr style=\"text-align: right;\">\n",
       "      <th></th>\n",
       "      <th>Train Predictions</th>\n",
       "      <th>Actuals</th>\n",
       "    </tr>\n",
       "  </thead>\n",
       "  <tbody>\n",
       "    <tr>\n",
       "      <th>0</th>\n",
       "      <td>30.561872</td>\n",
       "      <td>29.08</td>\n",
       "    </tr>\n",
       "    <tr>\n",
       "      <th>1</th>\n",
       "      <td>29.452477</td>\n",
       "      <td>30.12</td>\n",
       "    </tr>\n",
       "    <tr>\n",
       "      <th>2</th>\n",
       "      <td>30.528217</td>\n",
       "      <td>30.80</td>\n",
       "    </tr>\n",
       "    <tr>\n",
       "      <th>3</th>\n",
       "      <td>30.839727</td>\n",
       "      <td>31.02</td>\n",
       "    </tr>\n",
       "    <tr>\n",
       "      <th>4</th>\n",
       "      <td>30.596153</td>\n",
       "      <td>30.79</td>\n",
       "    </tr>\n",
       "    <tr>\n",
       "      <th>...</th>\n",
       "      <td>...</td>\n",
       "      <td>...</td>\n",
       "    </tr>\n",
       "    <tr>\n",
       "      <th>1574</th>\n",
       "      <td>16.710960</td>\n",
       "      <td>16.58</td>\n",
       "    </tr>\n",
       "    <tr>\n",
       "      <th>1575</th>\n",
       "      <td>16.171999</td>\n",
       "      <td>15.96</td>\n",
       "    </tr>\n",
       "    <tr>\n",
       "      <th>1576</th>\n",
       "      <td>15.625384</td>\n",
       "      <td>15.40</td>\n",
       "    </tr>\n",
       "    <tr>\n",
       "      <th>1577</th>\n",
       "      <td>15.163112</td>\n",
       "      <td>14.83</td>\n",
       "    </tr>\n",
       "    <tr>\n",
       "      <th>1578</th>\n",
       "      <td>14.590405</td>\n",
       "      <td>14.34</td>\n",
       "    </tr>\n",
       "  </tbody>\n",
       "</table>\n",
       "<p>1579 rows × 2 columns</p>\n",
       "</div>"
      ],
      "text/plain": [
       "      Train Predictions  Actuals\n",
       "0             30.561872    29.08\n",
       "1             29.452477    30.12\n",
       "2             30.528217    30.80\n",
       "3             30.839727    31.02\n",
       "4             30.596153    30.79\n",
       "...                 ...      ...\n",
       "1574          16.710960    16.58\n",
       "1575          16.171999    15.96\n",
       "1576          15.625384    15.40\n",
       "1577          15.163112    14.83\n",
       "1578          14.590405    14.34\n",
       "\n",
       "[1579 rows x 2 columns]"
      ]
     },
     "execution_count": 37,
     "metadata": {},
     "output_type": "execute_result"
    }
   ],
   "source": [
    "train_predictions = model1.predict(X_test1).flatten()\n",
    "train_results = pd.DataFrame(data={'Train Predictions':train_predictions, 'Actuals':y_test1})\n",
    "train_results"
   ]
  },
  {
   "cell_type": "code",
   "execution_count": 38,
   "metadata": {},
   "outputs": [
    {
     "data": {
      "text/plain": [
       "array([[[12.14],\n",
       "        [11.93],\n",
       "        [14.42],\n",
       "        [17.5 ],\n",
       "        [22.68]],\n",
       "\n",
       "       [[11.93],\n",
       "        [14.42],\n",
       "        [17.5 ],\n",
       "        [22.68],\n",
       "        [26.12]],\n",
       "\n",
       "       [[14.42],\n",
       "        [17.5 ],\n",
       "        [22.68],\n",
       "        [26.12],\n",
       "        [27.52]],\n",
       "\n",
       "       ...,\n",
       "\n",
       "       [[27.37],\n",
       "        [27.98],\n",
       "        [28.23],\n",
       "        [28.08],\n",
       "        [27.45]],\n",
       "\n",
       "       [[27.98],\n",
       "        [28.23],\n",
       "        [28.08],\n",
       "        [27.45],\n",
       "        [26.63]],\n",
       "\n",
       "       [[28.23],\n",
       "        [28.08],\n",
       "        [27.45],\n",
       "        [26.63],\n",
       "        [25.67]]])"
      ]
     },
     "execution_count": 38,
     "metadata": {},
     "output_type": "execute_result"
    }
   ],
   "source": [
    "X_train1"
   ]
  },
  {
   "cell_type": "code",
   "execution_count": 39,
   "metadata": {},
   "outputs": [
    {
     "data": {
      "text/plain": [
       "[<matplotlib.lines.Line2D at 0x19f42e9b150>]"
      ]
     },
     "execution_count": 39,
     "metadata": {},
     "output_type": "execute_result"
    },
    {
     "data": {
      "image/png": "[encoded data removed]",
      "text/plain": [
       "<Figure size 640x480 with 1 Axes>"
      ]
     },
     "metadata": {},
     "output_type": "display_data"
    }
   ],
   "source": [
    "import matplotlib.pyplot as plt\n",
    "plt.plot(train_results['Train Predictions'][50:100])\n",
    "plt.plot(train_results['Actuals'][50:100])"
   ]
  },
  {
   "cell_type": "code",
   "execution_count": 40,
   "metadata": {},
   "outputs": [],
   "source": [
    "def plot_predictions(model, X, y, start=0, end=100):\n",
    "    pred = model.predict(X).flatten()\n",
    "    df = pd.DataFrame(data={'predictions': pred, 'actuals': y})\n",
    "    plt.plot(df['predictions'][start:end], label='predicted')\n",
    "    plt.plot(df['actuals'][start:end], label='actual')\n",
    "    plt.legend()\n",
    "    return df"
   ]
  },
  {
   "cell_type": "code",
   "execution_count": 41,
   "metadata": {},
   "outputs": [
    {
     "name": "stdout",
     "output_type": "stream",
     "text": [
      "50/50 [==============================] - 0s 2ms/step\n"
     ]
    },
    {
     "data": {
      "text/html": [
       "<div>\n",
       "<style scoped>\n",
       "    .dataframe tbody tr th:only-of-type {\n",
       "        vertical-align: middle;\n",
       "    }\n",
       "\n",
       "    .dataframe tbody tr th {\n",
       "        vertical-align: top;\n",
       "    }\n",
       "\n",
       "    .dataframe thead th {\n",
       "        text-align: right;\n",
       "    }\n",
       "</style>\n",
       "<table border=\"1\" class=\"dataframe\">\n",
       "  <thead>\n",
       "    <tr style=\"text-align: right;\">\n",
       "      <th></th>\n",
       "      <th>predictions</th>\n",
       "      <th>actuals</th>\n",
       "    </tr>\n",
       "  </thead>\n",
       "  <tbody>\n",
       "    <tr>\n",
       "      <th>0</th>\n",
       "      <td>30.561872</td>\n",
       "      <td>29.08</td>\n",
       "    </tr>\n",
       "    <tr>\n",
       "      <th>1</th>\n",
       "      <td>29.452477</td>\n",
       "      <td>30.12</td>\n",
       "    </tr>\n",
       "    <tr>\n",
       "      <th>2</th>\n",
       "      <td>30.528217</td>\n",
       "      <td>30.80</td>\n",
       "    </tr>\n",
       "    <tr>\n",
       "      <th>3</th>\n",
       "      <td>30.839727</td>\n",
       "      <td>31.02</td>\n",
       "    </tr>\n",
       "    <tr>\n",
       "      <th>4</th>\n",
       "      <td>30.596153</td>\n",
       "      <td>30.79</td>\n",
       "    </tr>\n",
       "    <tr>\n",
       "      <th>...</th>\n",
       "      <td>...</td>\n",
       "      <td>...</td>\n",
       "    </tr>\n",
       "    <tr>\n",
       "      <th>1574</th>\n",
       "      <td>16.710960</td>\n",
       "      <td>16.58</td>\n",
       "    </tr>\n",
       "    <tr>\n",
       "      <th>1575</th>\n",
       "      <td>16.171999</td>\n",
       "      <td>15.96</td>\n",
       "    </tr>\n",
       "    <tr>\n",
       "      <th>1576</th>\n",
       "      <td>15.625384</td>\n",
       "      <td>15.40</td>\n",
       "    </tr>\n",
       "    <tr>\n",
       "      <th>1577</th>\n",
       "      <td>15.163112</td>\n",
       "      <td>14.83</td>\n",
       "    </tr>\n",
       "    <tr>\n",
       "      <th>1578</th>\n",
       "      <td>14.590405</td>\n",
       "      <td>14.34</td>\n",
       "    </tr>\n",
       "  </tbody>\n",
       "</table>\n",
       "<p>1579 rows × 2 columns</p>\n",
       "</div>"
      ],
      "text/plain": [
       "      predictions  actuals\n",
       "0       30.561872    29.08\n",
       "1       29.452477    30.12\n",
       "2       30.528217    30.80\n",
       "3       30.839727    31.02\n",
       "4       30.596153    30.79\n",
       "...           ...      ...\n",
       "1574    16.710960    16.58\n",
       "1575    16.171999    15.96\n",
       "1576    15.625384    15.40\n",
       "1577    15.163112    14.83\n",
       "1578    14.590405    14.34\n",
       "\n",
       "[1579 rows x 2 columns]"
      ]
     },
     "execution_count": 41,
     "metadata": {},
     "output_type": "execute_result"
    },
    {
     "data": {
      "image/png": "[encoded data removed]",
      "text/plain": [
       "<Figure size 640x480 with 1 Axes>"
      ]
     },
     "metadata": {},
     "output_type": "display_data"
    }
   ],
   "source": [
    "plot_predictions(model1, X_test1, y_test1)"
   ]
  },
  {
   "cell_type": "code",
   "execution_count": 42,
   "metadata": {},
   "outputs": [
    {
     "name": "stdout",
     "output_type": "stream",
     "text": [
      "Model: \"sequential_1\"\n",
      "_________________________________________________________________\n",
      " Layer (type)                Output Shape              Param #   \n",
      "=================================================================\n",
      " conv1d (Conv1D)             (None, 4, 64)             192       \n",
      "                                                                 \n",
      " flatten (Flatten)           (None, 256)               0         \n",
      "                                                                 \n",
      " dense_2 (Dense)             (None, 8)                 2056      \n",
      "                                                                 \n",
      " dense_3 (Dense)             (None, 1)                 9         \n",
      "                                                                 \n",
      "=================================================================\n",
      "Total params: 2257 (8.82 KB)\n",
      "Trainable params: 2257 (8.82 KB)\n",
      "Non-trainable params: 0 (0.00 Byte)\n",
      "_________________________________________________________________\n"
     ]
    }
   ],
   "source": [
    "model2 = Sequential()\n",
    "model2.add(InputLayer((5, 1)))\n",
    "model2.add(Conv1D(64, kernel_size=2))\n",
    "model2.add(Flatten())\n",
    "model2.add(Dense(8, 'relu'))\n",
    "model2.add(Dense(1, 'linear'))\n",
    "\n",
    "model2.summary()"
   ]
  },
  {
   "cell_type": "code",
   "execution_count": 43,
   "metadata": {},
   "outputs": [],
   "source": [
    "cp2 = ModelCheckpoint('model2/', save_best_only=True)\n",
    "model2.compile(loss=MeanSquaredError(), optimizer=Adam(learning_rate=0.0001), metrics=[RootMeanSquaredError()])"
   ]
  },
  {
   "cell_type": "code",
   "execution_count": 409,
   "metadata": {},
   "outputs": [
    {
     "name": "stdout",
     "output_type": "stream",
     "text": [
      "Epoch 1/10\n"
     ]
    },
    {
     "name": "stdout",
     "output_type": "stream",
     "text": [
      "1560/1563 [============================>.] - ETA: 0s - loss: 4.6216 - root_mean_squared_error: 2.1498INFO:tensorflow:Assets written to: model2\\assets\n"
     ]
    },
    {
     "name": "stderr",
     "output_type": "stream",
     "text": [
      "INFO:tensorflow:Assets written to: model2\\assets\n"
     ]
    },
    {
     "name": "stdout",
     "output_type": "stream",
     "text": [
      "1563/1563 [==============================] - 4s 2ms/step - loss: 4.6180 - root_mean_squared_error: 2.1490 - val_loss: 1.2458 - val_root_mean_squared_error: 1.1162\n",
      "Epoch 2/10\n",
      "1563/1563 [==============================] - ETA: 0s - loss: 1.2474 - root_mean_squared_error: 1.1169INFO:tensorflow:Assets written to: model2\\assets\n"
     ]
    },
    {
     "name": "stderr",
     "output_type": "stream",
     "text": [
      "INFO:tensorflow:Assets written to: model2\\assets\n"
     ]
    },
    {
     "name": "stdout",
     "output_type": "stream",
     "text": [
      "1563/1563 [==============================] - 3s 2ms/step - loss: 1.2474 - root_mean_squared_error: 1.1169 - val_loss: 0.6524 - val_root_mean_squared_error: 0.8077\n",
      "Epoch 3/10\n",
      "1544/1563 [============================>.] - ETA: 0s - loss: 0.7652 - root_mean_squared_error: 0.8748INFO:tensorflow:Assets written to: model2\\assets\n"
     ]
    },
    {
     "name": "stderr",
     "output_type": "stream",
     "text": [
      "INFO:tensorflow:Assets written to: model2\\assets\n"
     ]
    },
    {
     "name": "stdout",
     "output_type": "stream",
     "text": [
      "1563/1563 [==============================] - 3s 2ms/step - loss: 0.7648 - root_mean_squared_error: 0.8745 - val_loss: 0.4023 - val_root_mean_squared_error: 0.6343\n",
      "Epoch 4/10\n",
      "1551/1563 [============================>.] - ETA: 0s - loss: 0.6388 - root_mean_squared_error: 0.7993INFO:tensorflow:Assets written to: model2\\assets\n"
     ]
    },
    {
     "name": "stderr",
     "output_type": "stream",
     "text": [
      "INFO:tensorflow:Assets written to: model2\\assets\n"
     ]
    },
    {
     "name": "stdout",
     "output_type": "stream",
     "text": [
      "1563/1563 [==============================] - 3s 2ms/step - loss: 0.6382 - root_mean_squared_error: 0.7989 - val_loss: 0.3492 - val_root_mean_squared_error: 0.5909\n",
      "Epoch 5/10\n",
      "1557/1563 [============================>.] - ETA: 0s - loss: 0.5640 - root_mean_squared_error: 0.7510INFO:tensorflow:Assets written to: model2\\assets\n"
     ]
    },
    {
     "name": "stderr",
     "output_type": "stream",
     "text": [
      "INFO:tensorflow:Assets written to: model2\\assets\n"
     ]
    },
    {
     "name": "stdout",
     "output_type": "stream",
     "text": [
      "1563/1563 [==============================] - 3s 2ms/step - loss: 0.5630 - root_mean_squared_error: 0.7503 - val_loss: 0.3078 - val_root_mean_squared_error: 0.5548\n",
      "Epoch 6/10\n",
      "1563/1563 [==============================] - 3s 2ms/step - loss: 0.5094 - root_mean_squared_error: 0.7137 - val_loss: 0.3133 - val_root_mean_squared_error: 0.5597\n",
      "Epoch 7/10\n",
      "1544/1563 [============================>.] - ETA: 0s - loss: 0.4764 - root_mean_squared_error: 0.6902INFO:tensorflow:Assets written to: model2\\assets\n"
     ]
    },
    {
     "name": "stderr",
     "output_type": "stream",
     "text": [
      "INFO:tensorflow:Assets written to: model2\\assets\n"
     ]
    },
    {
     "name": "stdout",
     "output_type": "stream",
     "text": [
      "1563/1563 [==============================] - 3s 2ms/step - loss: 0.4763 - root_mean_squared_error: 0.6901 - val_loss: 0.2586 - val_root_mean_squared_error: 0.5085\n",
      "Epoch 8/10\n",
      "1547/1563 [============================>.] - ETA: 0s - loss: 0.4565 - root_mean_squared_error: 0.6757INFO:tensorflow:Assets written to: model2\\assets\n"
     ]
    },
    {
     "name": "stderr",
     "output_type": "stream",
     "text": [
      "INFO:tensorflow:Assets written to: model2\\assets\n"
     ]
    },
    {
     "name": "stdout",
     "output_type": "stream",
     "text": [
      "1563/1563 [==============================] - 81s 52ms/step - loss: 0.4566 - root_mean_squared_error: 0.6758 - val_loss: 0.2510 - val_root_mean_squared_error: 0.5010\n",
      "Epoch 9/10\n",
      "1529/1563 [============================>.] - ETA: 0s - loss: 0.4468 - root_mean_squared_error: 0.6684INFO:tensorflow:Assets written to: model2\\assets\n"
     ]
    },
    {
     "name": "stderr",
     "output_type": "stream",
     "text": [
      "INFO:tensorflow:Assets written to: model2\\assets\n"
     ]
    },
    {
     "name": "stdout",
     "output_type": "stream",
     "text": [
      "1563/1563 [==============================] - 3s 2ms/step - loss: 0.4461 - root_mean_squared_error: 0.6679 - val_loss: 0.2448 - val_root_mean_squared_error: 0.4948\n",
      "Epoch 10/10\n",
      "1555/1563 [============================>.] - ETA: 0s - loss: 0.4385 - root_mean_squared_error: 0.6622INFO:tensorflow:Assets written to: model2\\assets\n"
     ]
    },
    {
     "name": "stderr",
     "output_type": "stream",
     "text": [
      "INFO:tensorflow:Assets written to: model2\\assets\n"
     ]
    },
    {
     "name": "stdout",
     "output_type": "stream",
     "text": [
      "1563/1563 [==============================] - 2s 2ms/step - loss: 0.4382 - root_mean_squared_error: 0.6620 - val_loss: 0.2359 - val_root_mean_squared_error: 0.4857\n"
     ]
    },
    {
     "data": {
      "text/plain": [
       "<keras.src.callbacks.History at 0x1f59568bb50>"
      ]
     },
     "execution_count": 409,
     "metadata": {},
     "output_type": "execute_result"
    }
   ],
   "source": [
    "model2.fit(X_train1, y_train1, validation_data=(X_val1, y_val1), epochs=10, callbacks=[cp2])"
   ]
  },
  {
   "cell_type": "code",
   "execution_count": 410,
   "metadata": {},
   "outputs": [
    {
     "name": "stdout",
     "output_type": "stream",
     "text": [
      "50/50 [==============================] - 0s 872us/step\n"
     ]
    },
    {
     "data": {
      "text/html": [
       "<div>\n",
       "<style scoped>\n",
       "    .dataframe tbody tr th:only-of-type {\n",
       "        vertical-align: middle;\n",
       "    }\n",
       "\n",
       "    .dataframe tbody tr th {\n",
       "        vertical-align: top;\n",
       "    }\n",
       "\n",
       "    .dataframe thead th {\n",
       "        text-align: right;\n",
       "    }\n",
       "</style>\n",
       "<table border=\"1\" class=\"dataframe\">\n",
       "  <thead>\n",
       "    <tr style=\"text-align: right;\">\n",
       "      <th></th>\n",
       "      <th>predictions</th>\n",
       "      <th>actuals</th>\n",
       "    </tr>\n",
       "  </thead>\n",
       "  <tbody>\n",
       "    <tr>\n",
       "      <th>0</th>\n",
       "      <td>31.204617</td>\n",
       "      <td>29.08</td>\n",
       "    </tr>\n",
       "    <tr>\n",
       "      <th>1</th>\n",
       "      <td>29.947952</td>\n",
       "      <td>30.12</td>\n",
       "    </tr>\n",
       "    <tr>\n",
       "      <th>2</th>\n",
       "      <td>30.287439</td>\n",
       "      <td>30.80</td>\n",
       "    </tr>\n",
       "    <tr>\n",
       "      <th>3</th>\n",
       "      <td>31.223747</td>\n",
       "      <td>31.02</td>\n",
       "    </tr>\n",
       "    <tr>\n",
       "      <th>4</th>\n",
       "      <td>30.859665</td>\n",
       "      <td>30.79</td>\n",
       "    </tr>\n",
       "    <tr>\n",
       "      <th>...</th>\n",
       "      <td>...</td>\n",
       "      <td>...</td>\n",
       "    </tr>\n",
       "    <tr>\n",
       "      <th>1574</th>\n",
       "      <td>16.861675</td>\n",
       "      <td>16.58</td>\n",
       "    </tr>\n",
       "    <tr>\n",
       "      <th>1575</th>\n",
       "      <td>16.297150</td>\n",
       "      <td>15.96</td>\n",
       "    </tr>\n",
       "    <tr>\n",
       "      <th>1576</th>\n",
       "      <td>15.725129</td>\n",
       "      <td>15.40</td>\n",
       "    </tr>\n",
       "    <tr>\n",
       "      <th>1577</th>\n",
       "      <td>15.239339</td>\n",
       "      <td>14.83</td>\n",
       "    </tr>\n",
       "    <tr>\n",
       "      <th>1578</th>\n",
       "      <td>14.678074</td>\n",
       "      <td>14.34</td>\n",
       "    </tr>\n",
       "  </tbody>\n",
       "</table>\n",
       "<p>1579 rows × 2 columns</p>\n",
       "</div>"
      ],
      "text/plain": [
       "      predictions  actuals\n",
       "0       31.204617    29.08\n",
       "1       29.947952    30.12\n",
       "2       30.287439    30.80\n",
       "3       31.223747    31.02\n",
       "4       30.859665    30.79\n",
       "...           ...      ...\n",
       "1574    16.861675    16.58\n",
       "1575    16.297150    15.96\n",
       "1576    15.725129    15.40\n",
       "1577    15.239339    14.83\n",
       "1578    14.678074    14.34\n",
       "\n",
       "[1579 rows x 2 columns]"
      ]
     },
     "execution_count": 410,
     "metadata": {},
     "output_type": "execute_result"
    },
    {
     "data": {
      "image/png": "[encoded data removed]",
      "text/plain": [
       "<Figure size 640x480 with 1 Axes>"
      ]
     },
     "metadata": {},
     "output_type": "display_data"
    }
   ],
   "source": [
    "plot_predictions(model2, X_test1, y_test1)"
   ]
  },
  {
   "cell_type": "code",
   "execution_count": 49,
   "metadata": {},
   "outputs": [
    {
     "data": {
      "text/html": [
       "<div>\n",
       "<style scoped>\n",
       "    .dataframe tbody tr th:only-of-type {\n",
       "        vertical-align: middle;\n",
       "    }\n",
       "\n",
       "    .dataframe tbody tr th {\n",
       "        vertical-align: top;\n",
       "    }\n",
       "\n",
       "    .dataframe thead th {\n",
       "        text-align: right;\n",
       "    }\n",
       "</style>\n",
       "<table border=\"1\" class=\"dataframe\">\n",
       "  <thead>\n",
       "    <tr style=\"text-align: right;\">\n",
       "      <th></th>\n",
       "      <th>YEAR</th>\n",
       "      <th>MO</th>\n",
       "      <th>DY</th>\n",
       "      <th>HR</th>\n",
       "      <th>ALLSKY_KT</th>\n",
       "      <th>T2M</th>\n",
       "      <th>QV2M</th>\n",
       "    </tr>\n",
       "  </thead>\n",
       "  <tbody>\n",
       "    <tr>\n",
       "      <th>0</th>\n",
       "      <td>2018</td>\n",
       "      <td>1</td>\n",
       "      <td>1</td>\n",
       "      <td>5</td>\n",
       "      <td>-999.00</td>\n",
       "      <td>12.14</td>\n",
       "      <td>4.46</td>\n",
       "    </tr>\n",
       "    <tr>\n",
       "      <th>1</th>\n",
       "      <td>2018</td>\n",
       "      <td>1</td>\n",
       "      <td>1</td>\n",
       "      <td>6</td>\n",
       "      <td>0.37</td>\n",
       "      <td>11.93</td>\n",
       "      <td>4.46</td>\n",
       "    </tr>\n",
       "    <tr>\n",
       "      <th>2</th>\n",
       "      <td>2018</td>\n",
       "      <td>1</td>\n",
       "      <td>1</td>\n",
       "      <td>7</td>\n",
       "      <td>0.50</td>\n",
       "      <td>14.42</td>\n",
       "      <td>4.58</td>\n",
       "    </tr>\n",
       "    <tr>\n",
       "      <th>3</th>\n",
       "      <td>2018</td>\n",
       "      <td>1</td>\n",
       "      <td>1</td>\n",
       "      <td>8</td>\n",
       "      <td>0.63</td>\n",
       "      <td>17.50</td>\n",
       "      <td>4.27</td>\n",
       "    </tr>\n",
       "    <tr>\n",
       "      <th>4</th>\n",
       "      <td>2018</td>\n",
       "      <td>1</td>\n",
       "      <td>1</td>\n",
       "      <td>9</td>\n",
       "      <td>0.70</td>\n",
       "      <td>22.68</td>\n",
       "      <td>4.27</td>\n",
       "    </tr>\n",
       "    <tr>\n",
       "      <th>...</th>\n",
       "      <td>...</td>\n",
       "      <td>...</td>\n",
       "      <td>...</td>\n",
       "      <td>...</td>\n",
       "      <td>...</td>\n",
       "      <td>...</td>\n",
       "      <td>...</td>\n",
       "    </tr>\n",
       "    <tr>\n",
       "      <th>52579</th>\n",
       "      <td>2024</td>\n",
       "      <td>1</td>\n",
       "      <td>1</td>\n",
       "      <td>0</td>\n",
       "      <td>-999.00</td>\n",
       "      <td>16.58</td>\n",
       "      <td>10.25</td>\n",
       "    </tr>\n",
       "    <tr>\n",
       "      <th>52580</th>\n",
       "      <td>2024</td>\n",
       "      <td>1</td>\n",
       "      <td>1</td>\n",
       "      <td>1</td>\n",
       "      <td>-999.00</td>\n",
       "      <td>15.96</td>\n",
       "      <td>10.25</td>\n",
       "    </tr>\n",
       "    <tr>\n",
       "      <th>52581</th>\n",
       "      <td>2024</td>\n",
       "      <td>1</td>\n",
       "      <td>1</td>\n",
       "      <td>2</td>\n",
       "      <td>-999.00</td>\n",
       "      <td>15.40</td>\n",
       "      <td>10.25</td>\n",
       "    </tr>\n",
       "    <tr>\n",
       "      <th>52582</th>\n",
       "      <td>2024</td>\n",
       "      <td>1</td>\n",
       "      <td>1</td>\n",
       "      <td>3</td>\n",
       "      <td>-999.00</td>\n",
       "      <td>14.83</td>\n",
       "      <td>10.25</td>\n",
       "    </tr>\n",
       "    <tr>\n",
       "      <th>52583</th>\n",
       "      <td>2024</td>\n",
       "      <td>1</td>\n",
       "      <td>1</td>\n",
       "      <td>4</td>\n",
       "      <td>-999.00</td>\n",
       "      <td>14.34</td>\n",
       "      <td>10.31</td>\n",
       "    </tr>\n",
       "  </tbody>\n",
       "</table>\n",
       "<p>52584 rows × 7 columns</p>\n",
       "</div>"
      ],
      "text/plain": [
       "       YEAR  MO  DY  HR  ALLSKY_KT    T2M   QV2M\n",
       "0      2018   1   1   5    -999.00  12.14   4.46\n",
       "1      2018   1   1   6       0.37  11.93   4.46\n",
       "2      2018   1   1   7       0.50  14.42   4.58\n",
       "3      2018   1   1   8       0.63  17.50   4.27\n",
       "4      2018   1   1   9       0.70  22.68   4.27\n",
       "...     ...  ..  ..  ..        ...    ...    ...\n",
       "52579  2024   1   1   0    -999.00  16.58  10.25\n",
       "52580  2024   1   1   1    -999.00  15.96  10.25\n",
       "52581  2024   1   1   2    -999.00  15.40  10.25\n",
       "52582  2024   1   1   3    -999.00  14.83  10.25\n",
       "52583  2024   1   1   4    -999.00  14.34  10.31\n",
       "\n",
       "[52584 rows x 7 columns]"
      ]
     },
     "execution_count": 49,
     "metadata": {},
     "output_type": "execute_result"
    }
   ],
   "source": [
    "df"
   ]
  },
  {
   "cell_type": "code",
   "execution_count": 50,
   "metadata": {},
   "outputs": [
    {
     "data": {
      "text/html": [
       "<div>\n",
       "<style scoped>\n",
       "    .dataframe tbody tr th:only-of-type {\n",
       "        vertical-align: middle;\n",
       "    }\n",
       "\n",
       "    .dataframe tbody tr th {\n",
       "        vertical-align: top;\n",
       "    }\n",
       "\n",
       "    .dataframe thead th {\n",
       "        text-align: right;\n",
       "    }\n",
       "</style>\n",
       "<table border=\"1\" class=\"dataframe\">\n",
       "  <thead>\n",
       "    <tr style=\"text-align: right;\">\n",
       "      <th></th>\n",
       "      <th>T2M</th>\n",
       "      <th>QV2M</th>\n",
       "      <th>DATETIME</th>\n",
       "    </tr>\n",
       "  </thead>\n",
       "  <tbody>\n",
       "    <tr>\n",
       "      <th>0</th>\n",
       "      <td>12.14</td>\n",
       "      <td>4.46</td>\n",
       "      <td>2018-01-01 05:00:00</td>\n",
       "    </tr>\n",
       "    <tr>\n",
       "      <th>1</th>\n",
       "      <td>11.93</td>\n",
       "      <td>4.46</td>\n",
       "      <td>2018-01-01 06:00:00</td>\n",
       "    </tr>\n",
       "    <tr>\n",
       "      <th>2</th>\n",
       "      <td>14.42</td>\n",
       "      <td>4.58</td>\n",
       "      <td>2018-01-01 07:00:00</td>\n",
       "    </tr>\n",
       "    <tr>\n",
       "      <th>3</th>\n",
       "      <td>17.50</td>\n",
       "      <td>4.27</td>\n",
       "      <td>2018-01-01 08:00:00</td>\n",
       "    </tr>\n",
       "    <tr>\n",
       "      <th>4</th>\n",
       "      <td>22.68</td>\n",
       "      <td>4.27</td>\n",
       "      <td>2018-01-01 09:00:00</td>\n",
       "    </tr>\n",
       "    <tr>\n",
       "      <th>...</th>\n",
       "      <td>...</td>\n",
       "      <td>...</td>\n",
       "      <td>...</td>\n",
       "    </tr>\n",
       "    <tr>\n",
       "      <th>52579</th>\n",
       "      <td>16.58</td>\n",
       "      <td>10.25</td>\n",
       "      <td>2024-01-01 00:00:00</td>\n",
       "    </tr>\n",
       "    <tr>\n",
       "      <th>52580</th>\n",
       "      <td>15.96</td>\n",
       "      <td>10.25</td>\n",
       "      <td>2024-01-01 01:00:00</td>\n",
       "    </tr>\n",
       "    <tr>\n",
       "      <th>52581</th>\n",
       "      <td>15.40</td>\n",
       "      <td>10.25</td>\n",
       "      <td>2024-01-01 02:00:00</td>\n",
       "    </tr>\n",
       "    <tr>\n",
       "      <th>52582</th>\n",
       "      <td>14.83</td>\n",
       "      <td>10.25</td>\n",
       "      <td>2024-01-01 03:00:00</td>\n",
       "    </tr>\n",
       "    <tr>\n",
       "      <th>52583</th>\n",
       "      <td>14.34</td>\n",
       "      <td>10.31</td>\n",
       "      <td>2024-01-01 04:00:00</td>\n",
       "    </tr>\n",
       "  </tbody>\n",
       "</table>\n",
       "<p>52584 rows × 3 columns</p>\n",
       "</div>"
      ],
      "text/plain": [
       "         T2M   QV2M            DATETIME\n",
       "0      12.14   4.46 2018-01-01 05:00:00\n",
       "1      11.93   4.46 2018-01-01 06:00:00\n",
       "2      14.42   4.58 2018-01-01 07:00:00\n",
       "3      17.50   4.27 2018-01-01 08:00:00\n",
       "4      22.68   4.27 2018-01-01 09:00:00\n",
       "...      ...    ...                 ...\n",
       "52579  16.58  10.25 2024-01-01 00:00:00\n",
       "52580  15.96  10.25 2024-01-01 01:00:00\n",
       "52581  15.40  10.25 2024-01-01 02:00:00\n",
       "52582  14.83  10.25 2024-01-01 03:00:00\n",
       "52583  14.34  10.31 2024-01-01 04:00:00\n",
       "\n",
       "[52584 rows x 3 columns]"
      ]
     },
     "execution_count": 50,
     "metadata": {},
     "output_type": "execute_result"
    }
   ],
   "source": [
    "dfcpy"
   ]
  },
  {
   "cell_type": "code",
   "execution_count": 51,
   "metadata": {},
   "outputs": [],
   "source": [
    "temp_df = pd.DataFrame({'TEMP': temp})\n",
    "temp_df['DAY'] = df['DY']\n",
    "temp_df['HOUR'] = df['HR']\n",
    "temp_df['MONTH'] = df['MO']"
   ]
  },
  {
   "cell_type": "code",
   "execution_count": 52,
   "metadata": {},
   "outputs": [
    {
     "data": {
      "text/html": [
       "<div>\n",
       "<style scoped>\n",
       "    .dataframe tbody tr th:only-of-type {\n",
       "        vertical-align: middle;\n",
       "    }\n",
       "\n",
       "    .dataframe tbody tr th {\n",
       "        vertical-align: top;\n",
       "    }\n",
       "\n",
       "    .dataframe thead th {\n",
       "        text-align: right;\n",
       "    }\n",
       "</style>\n",
       "<table border=\"1\" class=\"dataframe\">\n",
       "  <thead>\n",
       "    <tr style=\"text-align: right;\">\n",
       "      <th></th>\n",
       "      <th>TEMP</th>\n",
       "      <th>DAY</th>\n",
       "      <th>HOUR</th>\n",
       "      <th>MONTH</th>\n",
       "    </tr>\n",
       "  </thead>\n",
       "  <tbody>\n",
       "    <tr>\n",
       "      <th>0</th>\n",
       "      <td>12.14</td>\n",
       "      <td>1</td>\n",
       "      <td>5</td>\n",
       "      <td>1</td>\n",
       "    </tr>\n",
       "    <tr>\n",
       "      <th>1</th>\n",
       "      <td>11.93</td>\n",
       "      <td>1</td>\n",
       "      <td>6</td>\n",
       "      <td>1</td>\n",
       "    </tr>\n",
       "    <tr>\n",
       "      <th>2</th>\n",
       "      <td>14.42</td>\n",
       "      <td>1</td>\n",
       "      <td>7</td>\n",
       "      <td>1</td>\n",
       "    </tr>\n",
       "    <tr>\n",
       "      <th>3</th>\n",
       "      <td>17.50</td>\n",
       "      <td>1</td>\n",
       "      <td>8</td>\n",
       "      <td>1</td>\n",
       "    </tr>\n",
       "    <tr>\n",
       "      <th>4</th>\n",
       "      <td>22.68</td>\n",
       "      <td>1</td>\n",
       "      <td>9</td>\n",
       "      <td>1</td>\n",
       "    </tr>\n",
       "    <tr>\n",
       "      <th>...</th>\n",
       "      <td>...</td>\n",
       "      <td>...</td>\n",
       "      <td>...</td>\n",
       "      <td>...</td>\n",
       "    </tr>\n",
       "    <tr>\n",
       "      <th>52579</th>\n",
       "      <td>16.58</td>\n",
       "      <td>1</td>\n",
       "      <td>0</td>\n",
       "      <td>1</td>\n",
       "    </tr>\n",
       "    <tr>\n",
       "      <th>52580</th>\n",
       "      <td>15.96</td>\n",
       "      <td>1</td>\n",
       "      <td>1</td>\n",
       "      <td>1</td>\n",
       "    </tr>\n",
       "    <tr>\n",
       "      <th>52581</th>\n",
       "      <td>15.40</td>\n",
       "      <td>1</td>\n",
       "      <td>2</td>\n",
       "      <td>1</td>\n",
       "    </tr>\n",
       "    <tr>\n",
       "      <th>52582</th>\n",
       "      <td>14.83</td>\n",
       "      <td>1</td>\n",
       "      <td>3</td>\n",
       "      <td>1</td>\n",
       "    </tr>\n",
       "    <tr>\n",
       "      <th>52583</th>\n",
       "      <td>14.34</td>\n",
       "      <td>1</td>\n",
       "      <td>4</td>\n",
       "      <td>1</td>\n",
       "    </tr>\n",
       "  </tbody>\n",
       "</table>\n",
       "<p>52584 rows × 4 columns</p>\n",
       "</div>"
      ],
      "text/plain": [
       "        TEMP  DAY  HOUR  MONTH\n",
       "0      12.14    1     5      1\n",
       "1      11.93    1     6      1\n",
       "2      14.42    1     7      1\n",
       "3      17.50    1     8      1\n",
       "4      22.68    1     9      1\n",
       "...      ...  ...   ...    ...\n",
       "52579  16.58    1     0      1\n",
       "52580  15.96    1     1      1\n",
       "52581  15.40    1     2      1\n",
       "52582  14.83    1     3      1\n",
       "52583  14.34    1     4      1\n",
       "\n",
       "[52584 rows x 4 columns]"
      ]
     },
     "execution_count": 52,
     "metadata": {},
     "output_type": "execute_result"
    }
   ],
   "source": [
    "temp_df"
   ]
  },
  {
   "cell_type": "code",
   "execution_count": 53,
   "metadata": {},
   "outputs": [],
   "source": [
    "# temp_df['TIMEVAL'] = temp_df['HOUR']+temp_df['DAY']*24+temp_df['MONTH']*30*24"
   ]
  },
  {
   "cell_type": "code",
   "execution_count": 54,
   "metadata": {},
   "outputs": [
    {
     "data": {
      "text/html": [
       "<div>\n",
       "<style scoped>\n",
       "    .dataframe tbody tr th:only-of-type {\n",
       "        vertical-align: middle;\n",
       "    }\n",
       "\n",
       "    .dataframe tbody tr th {\n",
       "        vertical-align: top;\n",
       "    }\n",
       "\n",
       "    .dataframe thead th {\n",
       "        text-align: right;\n",
       "    }\n",
       "</style>\n",
       "<table border=\"1\" class=\"dataframe\">\n",
       "  <thead>\n",
       "    <tr style=\"text-align: right;\">\n",
       "      <th></th>\n",
       "      <th>TEMP</th>\n",
       "      <th>DAY</th>\n",
       "      <th>HOUR</th>\n",
       "      <th>MONTH</th>\n",
       "    </tr>\n",
       "  </thead>\n",
       "  <tbody>\n",
       "    <tr>\n",
       "      <th>0</th>\n",
       "      <td>12.14</td>\n",
       "      <td>1</td>\n",
       "      <td>5</td>\n",
       "      <td>1</td>\n",
       "    </tr>\n",
       "    <tr>\n",
       "      <th>1</th>\n",
       "      <td>11.93</td>\n",
       "      <td>1</td>\n",
       "      <td>6</td>\n",
       "      <td>1</td>\n",
       "    </tr>\n",
       "    <tr>\n",
       "      <th>2</th>\n",
       "      <td>14.42</td>\n",
       "      <td>1</td>\n",
       "      <td>7</td>\n",
       "      <td>1</td>\n",
       "    </tr>\n",
       "    <tr>\n",
       "      <th>3</th>\n",
       "      <td>17.50</td>\n",
       "      <td>1</td>\n",
       "      <td>8</td>\n",
       "      <td>1</td>\n",
       "    </tr>\n",
       "    <tr>\n",
       "      <th>4</th>\n",
       "      <td>22.68</td>\n",
       "      <td>1</td>\n",
       "      <td>9</td>\n",
       "      <td>1</td>\n",
       "    </tr>\n",
       "    <tr>\n",
       "      <th>...</th>\n",
       "      <td>...</td>\n",
       "      <td>...</td>\n",
       "      <td>...</td>\n",
       "      <td>...</td>\n",
       "    </tr>\n",
       "    <tr>\n",
       "      <th>52579</th>\n",
       "      <td>16.58</td>\n",
       "      <td>1</td>\n",
       "      <td>0</td>\n",
       "      <td>1</td>\n",
       "    </tr>\n",
       "    <tr>\n",
       "      <th>52580</th>\n",
       "      <td>15.96</td>\n",
       "      <td>1</td>\n",
       "      <td>1</td>\n",
       "      <td>1</td>\n",
       "    </tr>\n",
       "    <tr>\n",
       "      <th>52581</th>\n",
       "      <td>15.40</td>\n",
       "      <td>1</td>\n",
       "      <td>2</td>\n",
       "      <td>1</td>\n",
       "    </tr>\n",
       "    <tr>\n",
       "      <th>52582</th>\n",
       "      <td>14.83</td>\n",
       "      <td>1</td>\n",
       "      <td>3</td>\n",
       "      <td>1</td>\n",
       "    </tr>\n",
       "    <tr>\n",
       "      <th>52583</th>\n",
       "      <td>14.34</td>\n",
       "      <td>1</td>\n",
       "      <td>4</td>\n",
       "      <td>1</td>\n",
       "    </tr>\n",
       "  </tbody>\n",
       "</table>\n",
       "<p>52584 rows × 4 columns</p>\n",
       "</div>"
      ],
      "text/plain": [
       "        TEMP  DAY  HOUR  MONTH\n",
       "0      12.14    1     5      1\n",
       "1      11.93    1     6      1\n",
       "2      14.42    1     7      1\n",
       "3      17.50    1     8      1\n",
       "4      22.68    1     9      1\n",
       "...      ...  ...   ...    ...\n",
       "52579  16.58    1     0      1\n",
       "52580  15.96    1     1      1\n",
       "52581  15.40    1     2      1\n",
       "52582  14.83    1     3      1\n",
       "52583  14.34    1     4      1\n",
       "\n",
       "[52584 rows x 4 columns]"
      ]
     },
     "execution_count": 54,
     "metadata": {},
     "output_type": "execute_result"
    }
   ],
   "source": [
    "temp_df"
   ]
  },
  {
   "cell_type": "code",
   "execution_count": 55,
   "metadata": {},
   "outputs": [],
   "source": [
    "# temp_df.drop(columns=['TIMEVAL'], inplace=True)"
   ]
  },
  {
   "cell_type": "code",
   "execution_count": 56,
   "metadata": {},
   "outputs": [
    {
     "data": {
      "text/html": [
       "<div>\n",
       "<style scoped>\n",
       "    .dataframe tbody tr th:only-of-type {\n",
       "        vertical-align: middle;\n",
       "    }\n",
       "\n",
       "    .dataframe tbody tr th {\n",
       "        vertical-align: top;\n",
       "    }\n",
       "\n",
       "    .dataframe thead th {\n",
       "        text-align: right;\n",
       "    }\n",
       "</style>\n",
       "<table border=\"1\" class=\"dataframe\">\n",
       "  <thead>\n",
       "    <tr style=\"text-align: right;\">\n",
       "      <th></th>\n",
       "      <th>TEMP</th>\n",
       "      <th>DAY</th>\n",
       "      <th>HOUR</th>\n",
       "      <th>MONTH</th>\n",
       "    </tr>\n",
       "  </thead>\n",
       "  <tbody>\n",
       "    <tr>\n",
       "      <th>0</th>\n",
       "      <td>12.14</td>\n",
       "      <td>1</td>\n",
       "      <td>5</td>\n",
       "      <td>1</td>\n",
       "    </tr>\n",
       "    <tr>\n",
       "      <th>1</th>\n",
       "      <td>11.93</td>\n",
       "      <td>1</td>\n",
       "      <td>6</td>\n",
       "      <td>1</td>\n",
       "    </tr>\n",
       "    <tr>\n",
       "      <th>2</th>\n",
       "      <td>14.42</td>\n",
       "      <td>1</td>\n",
       "      <td>7</td>\n",
       "      <td>1</td>\n",
       "    </tr>\n",
       "    <tr>\n",
       "      <th>3</th>\n",
       "      <td>17.50</td>\n",
       "      <td>1</td>\n",
       "      <td>8</td>\n",
       "      <td>1</td>\n",
       "    </tr>\n",
       "    <tr>\n",
       "      <th>4</th>\n",
       "      <td>22.68</td>\n",
       "      <td>1</td>\n",
       "      <td>9</td>\n",
       "      <td>1</td>\n",
       "    </tr>\n",
       "    <tr>\n",
       "      <th>...</th>\n",
       "      <td>...</td>\n",
       "      <td>...</td>\n",
       "      <td>...</td>\n",
       "      <td>...</td>\n",
       "    </tr>\n",
       "    <tr>\n",
       "      <th>52579</th>\n",
       "      <td>16.58</td>\n",
       "      <td>1</td>\n",
       "      <td>0</td>\n",
       "      <td>1</td>\n",
       "    </tr>\n",
       "    <tr>\n",
       "      <th>52580</th>\n",
       "      <td>15.96</td>\n",
       "      <td>1</td>\n",
       "      <td>1</td>\n",
       "      <td>1</td>\n",
       "    </tr>\n",
       "    <tr>\n",
       "      <th>52581</th>\n",
       "      <td>15.40</td>\n",
       "      <td>1</td>\n",
       "      <td>2</td>\n",
       "      <td>1</td>\n",
       "    </tr>\n",
       "    <tr>\n",
       "      <th>52582</th>\n",
       "      <td>14.83</td>\n",
       "      <td>1</td>\n",
       "      <td>3</td>\n",
       "      <td>1</td>\n",
       "    </tr>\n",
       "    <tr>\n",
       "      <th>52583</th>\n",
       "      <td>14.34</td>\n",
       "      <td>1</td>\n",
       "      <td>4</td>\n",
       "      <td>1</td>\n",
       "    </tr>\n",
       "  </tbody>\n",
       "</table>\n",
       "<p>52584 rows × 4 columns</p>\n",
       "</div>"
      ],
      "text/plain": [
       "        TEMP  DAY  HOUR  MONTH\n",
       "0      12.14    1     5      1\n",
       "1      11.93    1     6      1\n",
       "2      14.42    1     7      1\n",
       "3      17.50    1     8      1\n",
       "4      22.68    1     9      1\n",
       "...      ...  ...   ...    ...\n",
       "52579  16.58    1     0      1\n",
       "52580  15.96    1     1      1\n",
       "52581  15.40    1     2      1\n",
       "52582  14.83    1     3      1\n",
       "52583  14.34    1     4      1\n",
       "\n",
       "[52584 rows x 4 columns]"
      ]
     },
     "execution_count": 56,
     "metadata": {},
     "output_type": "execute_result"
    }
   ],
   "source": [
    "temp_df"
   ]
  },
  {
   "cell_type": "code",
   "execution_count": 57,
   "metadata": {},
   "outputs": [],
   "source": [
    "def df_to_XY(df, window_size=5):\n",
    "  df_as_np = df.to_numpy()\n",
    "  X = []\n",
    "  y = []\n",
    "  for i in range(len(df_as_np)-window_size):\n",
    "    row = [a for a in df_as_np[i:i+window_size]]\n",
    "    X.append(row)\n",
    "    label = df_as_np[i+window_size][0]\n",
    "    y.append(label)\n",
    "  return np.array(X), np.array(y)"
   ]
  },
  {
   "cell_type": "code",
   "execution_count": 58,
   "metadata": {},
   "outputs": [
    {
     "data": {
      "text/plain": [
       "((52579, 5, 4), (52579,))"
      ]
     },
     "execution_count": 58,
     "metadata": {},
     "output_type": "execute_result"
    }
   ],
   "source": [
    "X2, y2 = df_to_XY(temp_df)\n",
    "X2.shape, y2.shape"
   ]
  },
  {
   "cell_type": "code",
   "execution_count": 59,
   "metadata": {},
   "outputs": [],
   "source": [
    "X_train2, y_train2 = X2[:50000], y2[:50000]\n",
    "X_val2, y_val2 = X2[50000:51000], y2[50000:51000]\n",
    "X_test2, y_test2 = X2[51000:], y2[51000:]"
   ]
  },
  {
   "cell_type": "code",
   "execution_count": 60,
   "metadata": {},
   "outputs": [],
   "source": [
    "# from sklearn.preprocessing import StandardScaler\n",
    "# scaler = StandardScaler()"
   ]
  },
  {
   "cell_type": "code",
   "execution_count": 61,
   "metadata": {},
   "outputs": [
    {
     "data": {
      "text/plain": [
       "array([[[12.14,  1.  ,  5.  ,  1.  ],\n",
       "        [11.93,  1.  ,  6.  ,  1.  ],\n",
       "        [14.42,  1.  ,  7.  ,  1.  ],\n",
       "        [17.5 ,  1.  ,  8.  ,  1.  ],\n",
       "        [22.68,  1.  ,  9.  ,  1.  ]],\n",
       "\n",
       "       [[11.93,  1.  ,  6.  ,  1.  ],\n",
       "        [14.42,  1.  ,  7.  ,  1.  ],\n",
       "        [17.5 ,  1.  ,  8.  ,  1.  ],\n",
       "        [22.68,  1.  ,  9.  ,  1.  ],\n",
       "        [26.12,  1.  , 10.  ,  1.  ]],\n",
       "\n",
       "       [[14.42,  1.  ,  7.  ,  1.  ],\n",
       "        [17.5 ,  1.  ,  8.  ,  1.  ],\n",
       "        [22.68,  1.  ,  9.  ,  1.  ],\n",
       "        [26.12,  1.  , 10.  ,  1.  ],\n",
       "        [27.52,  1.  , 11.  ,  1.  ]],\n",
       "\n",
       "       ...,\n",
       "\n",
       "       [[27.37, 15.  , 10.  ,  9.  ],\n",
       "        [27.98, 15.  , 11.  ,  9.  ],\n",
       "        [28.23, 15.  , 12.  ,  9.  ],\n",
       "        [28.08, 15.  , 13.  ,  9.  ],\n",
       "        [27.45, 15.  , 14.  ,  9.  ]],\n",
       "\n",
       "       [[27.98, 15.  , 11.  ,  9.  ],\n",
       "        [28.23, 15.  , 12.  ,  9.  ],\n",
       "        [28.08, 15.  , 13.  ,  9.  ],\n",
       "        [27.45, 15.  , 14.  ,  9.  ],\n",
       "        [26.63, 15.  , 15.  ,  9.  ]],\n",
       "\n",
       "       [[28.23, 15.  , 12.  ,  9.  ],\n",
       "        [28.08, 15.  , 13.  ,  9.  ],\n",
       "        [27.45, 15.  , 14.  ,  9.  ],\n",
       "        [26.63, 15.  , 15.  ,  9.  ],\n",
       "        [25.67, 15.  , 16.  ,  9.  ]]])"
      ]
     },
     "execution_count": 61,
     "metadata": {},
     "output_type": "execute_result"
    }
   ],
   "source": [
    "X_train2"
   ]
  },
  {
   "cell_type": "code",
   "execution_count": 62,
   "metadata": {},
   "outputs": [],
   "source": [
    "# X_train2[:, :, 0] = scaler.fit_transform(X_train2[:, :, 0])"
   ]
  },
  {
   "cell_type": "code",
   "execution_count": 63,
   "metadata": {},
   "outputs": [
    {
     "data": {
      "text/plain": [
       "array([[[12.14,  1.  ,  5.  ,  1.  ],\n",
       "        [11.93,  1.  ,  6.  ,  1.  ],\n",
       "        [14.42,  1.  ,  7.  ,  1.  ],\n",
       "        [17.5 ,  1.  ,  8.  ,  1.  ],\n",
       "        [22.68,  1.  ,  9.  ,  1.  ]],\n",
       "\n",
       "       [[11.93,  1.  ,  6.  ,  1.  ],\n",
       "        [14.42,  1.  ,  7.  ,  1.  ],\n",
       "        [17.5 ,  1.  ,  8.  ,  1.  ],\n",
       "        [22.68,  1.  ,  9.  ,  1.  ],\n",
       "        [26.12,  1.  , 10.  ,  1.  ]],\n",
       "\n",
       "       [[14.42,  1.  ,  7.  ,  1.  ],\n",
       "        [17.5 ,  1.  ,  8.  ,  1.  ],\n",
       "        [22.68,  1.  ,  9.  ,  1.  ],\n",
       "        [26.12,  1.  , 10.  ,  1.  ],\n",
       "        [27.52,  1.  , 11.  ,  1.  ]],\n",
       "\n",
       "       ...,\n",
       "\n",
       "       [[27.37, 15.  , 10.  ,  9.  ],\n",
       "        [27.98, 15.  , 11.  ,  9.  ],\n",
       "        [28.23, 15.  , 12.  ,  9.  ],\n",
       "        [28.08, 15.  , 13.  ,  9.  ],\n",
       "        [27.45, 15.  , 14.  ,  9.  ]],\n",
       "\n",
       "       [[27.98, 15.  , 11.  ,  9.  ],\n",
       "        [28.23, 15.  , 12.  ,  9.  ],\n",
       "        [28.08, 15.  , 13.  ,  9.  ],\n",
       "        [27.45, 15.  , 14.  ,  9.  ],\n",
       "        [26.63, 15.  , 15.  ,  9.  ]],\n",
       "\n",
       "       [[28.23, 15.  , 12.  ,  9.  ],\n",
       "        [28.08, 15.  , 13.  ,  9.  ],\n",
       "        [27.45, 15.  , 14.  ,  9.  ],\n",
       "        [26.63, 15.  , 15.  ,  9.  ],\n",
       "        [25.67, 15.  , 16.  ,  9.  ]]])"
      ]
     },
     "execution_count": 63,
     "metadata": {},
     "output_type": "execute_result"
    }
   ],
   "source": [
    "X_train2"
   ]
  },
  {
   "cell_type": "code",
   "execution_count": 64,
   "metadata": {},
   "outputs": [],
   "source": [
    "# X_test2[:, :, 0] = scaler.fit_transform(X_test2[:, :, 0])\n",
    "# X_val2[:, :, 0] = scaler.fit_transform(X_val2[:, :, 0])"
   ]
  },
  {
   "cell_type": "code",
   "execution_count": 65,
   "metadata": {},
   "outputs": [
    {
     "name": "stdout",
     "output_type": "stream",
     "text": [
      "Model: \"sequential_2\"\n",
      "_________________________________________________________________\n",
      " Layer (type)                Output Shape              Param #   \n",
      "=================================================================\n",
      " lstm_1 (LSTM)               (None, 64)                17664     \n",
      "                                                                 \n",
      " dense_4 (Dense)             (None, 8)                 520       \n",
      "                                                                 \n",
      " dense_5 (Dense)             (None, 1)                 9         \n",
      "                                                                 \n",
      "=================================================================\n",
      "Total params: 18193 (71.07 KB)\n",
      "Trainable params: 18193 (71.07 KB)\n",
      "Non-trainable params: 0 (0.00 Byte)\n",
      "_________________________________________________________________\n"
     ]
    }
   ],
   "source": [
    "model4 = Sequential()\n",
    "model4.add(InputLayer((5, 4)))\n",
    "model4.add(LSTM(64))\n",
    "model4.add(Dense(8, activation='relu'))\n",
    "model4.add(Dense(1, activation='linear'))\n",
    "\n",
    "model4.summary()"
   ]
  },
  {
   "cell_type": "code",
   "execution_count": 457,
   "metadata": {},
   "outputs": [],
   "source": [
    "cp4 = ModelCheckpoint('model4/', save_best_only=True)\n",
    "model4.compile(loss=MeanSquaredError(), optimizer=Adam(learning_rate=0.0001), metrics=[RootMeanSquaredError()])"
   ]
  },
  {
   "cell_type": "code",
   "execution_count": 458,
   "metadata": {},
   "outputs": [
    {
     "name": "stdout",
     "output_type": "stream",
     "text": [
      "Epoch 1/10\n",
      "1558/1563 [============================>.] - ETA: 0s - loss: 205.0119 - root_mean_squared_error: 14.3182INFO:tensorflow:Assets written to: model4\\assets\n"
     ]
    },
    {
     "name": "stderr",
     "output_type": "stream",
     "text": [
      "INFO:tensorflow:Assets written to: model4\\assets\n"
     ]
    },
    {
     "name": "stdout",
     "output_type": "stream",
     "text": [
      "1563/1563 [==============================] - 8s 4ms/step - loss: 204.4598 - root_mean_squared_error: 14.2989 - val_loss: 4.6401 - val_root_mean_squared_error: 2.1541\n",
      "Epoch 2/10\n",
      "1545/1563 [============================>.] - ETA: 0s - loss: 8.1680 - root_mean_squared_error: 2.8580INFO:tensorflow:Assets written to: model4\\assets\n"
     ]
    },
    {
     "name": "stderr",
     "output_type": "stream",
     "text": [
      "INFO:tensorflow:Assets written to: model4\\assets\n"
     ]
    },
    {
     "name": "stdout",
     "output_type": "stream",
     "text": [
      "1563/1563 [==============================] - 6s 4ms/step - loss: 8.1045 - root_mean_squared_error: 2.8468 - val_loss: 0.6530 - val_root_mean_squared_error: 0.8081\n",
      "Epoch 3/10\n",
      "1554/1563 [============================>.] - ETA: 0s - loss: 1.5080 - root_mean_squared_error: 1.2280INFO:tensorflow:Assets written to: model4\\assets\n"
     ]
    },
    {
     "name": "stderr",
     "output_type": "stream",
     "text": [
      "INFO:tensorflow:Assets written to: model4\\assets\n"
     ]
    },
    {
     "name": "stdout",
     "output_type": "stream",
     "text": [
      "1563/1563 [==============================] - 7s 5ms/step - loss: 1.5029 - root_mean_squared_error: 1.2259 - val_loss: 0.3275 - val_root_mean_squared_error: 0.5723\n",
      "Epoch 4/10\n",
      "1547/1563 [============================>.] - ETA: 0s - loss: 0.5222 - root_mean_squared_error: 0.7227INFO:tensorflow:Assets written to: model4\\assets\n"
     ]
    },
    {
     "name": "stderr",
     "output_type": "stream",
     "text": [
      "INFO:tensorflow:Assets written to: model4\\assets\n"
     ]
    },
    {
     "name": "stdout",
     "output_type": "stream",
     "text": [
      "1563/1563 [==============================] - 6s 4ms/step - loss: 0.5210 - root_mean_squared_error: 0.7218 - val_loss: 0.2467 - val_root_mean_squared_error: 0.4967\n",
      "Epoch 5/10\n",
      "1563/1563 [==============================] - ETA: 0s - loss: 0.3326 - root_mean_squared_error: 0.5767INFO:tensorflow:Assets written to: model4\\assets\n"
     ]
    },
    {
     "name": "stderr",
     "output_type": "stream",
     "text": [
      "INFO:tensorflow:Assets written to: model4\\assets\n"
     ]
    },
    {
     "name": "stdout",
     "output_type": "stream",
     "text": [
      "1563/1563 [==============================] - 6s 4ms/step - loss: 0.3326 - root_mean_squared_error: 0.5767 - val_loss: 0.1726 - val_root_mean_squared_error: 0.4155\n",
      "Epoch 6/10\n",
      "1559/1563 [============================>.] - ETA: 0s - loss: 0.2707 - root_mean_squared_error: 0.5203INFO:tensorflow:Assets written to: model4\\assets\n"
     ]
    },
    {
     "name": "stderr",
     "output_type": "stream",
     "text": [
      "INFO:tensorflow:Assets written to: model4\\assets\n"
     ]
    },
    {
     "name": "stdout",
     "output_type": "stream",
     "text": [
      "1563/1563 [==============================] - 6s 4ms/step - loss: 0.2708 - root_mean_squared_error: 0.5204 - val_loss: 0.1472 - val_root_mean_squared_error: 0.3837\n",
      "Epoch 7/10\n",
      "1546/1563 [============================>.] - ETA: 0s - loss: 0.2356 - root_mean_squared_error: 0.4854INFO:tensorflow:Assets written to: model4\\assets\n"
     ]
    },
    {
     "name": "stderr",
     "output_type": "stream",
     "text": [
      "INFO:tensorflow:Assets written to: model4\\assets\n"
     ]
    },
    {
     "name": "stdout",
     "output_type": "stream",
     "text": [
      "1563/1563 [==============================] - 6s 4ms/step - loss: 0.2366 - root_mean_squared_error: 0.4864 - val_loss: 0.1465 - val_root_mean_squared_error: 0.3828\n",
      "Epoch 8/10\n",
      "1556/1563 [============================>.] - ETA: 0s - loss: 0.2117 - root_mean_squared_error: 0.4601INFO:tensorflow:Assets written to: model4\\assets\n"
     ]
    },
    {
     "name": "stderr",
     "output_type": "stream",
     "text": [
      "INFO:tensorflow:Assets written to: model4\\assets\n"
     ]
    },
    {
     "name": "stdout",
     "output_type": "stream",
     "text": [
      "1563/1563 [==============================] - 5s 3ms/step - loss: 0.2114 - root_mean_squared_error: 0.4598 - val_loss: 0.1172 - val_root_mean_squared_error: 0.3424\n",
      "Epoch 9/10\n",
      "1563/1563 [==============================] - 3s 2ms/step - loss: 0.1943 - root_mean_squared_error: 0.4408 - val_loss: 0.1204 - val_root_mean_squared_error: 0.3470\n",
      "Epoch 10/10\n",
      "1563/1563 [==============================] - 3s 2ms/step - loss: 0.1824 - root_mean_squared_error: 0.4271 - val_loss: 0.1188 - val_root_mean_squared_error: 0.3447\n"
     ]
    },
    {
     "data": {
      "text/plain": [
       "<keras.src.callbacks.History at 0x1f58ff51890>"
      ]
     },
     "execution_count": 458,
     "metadata": {},
     "output_type": "execute_result"
    }
   ],
   "source": [
    "model4.fit(X_train2, y_train2, validation_data=(X_val2, y_val2), epochs=10, callbacks=[cp4])"
   ]
  },
  {
   "cell_type": "code",
   "execution_count": 459,
   "metadata": {},
   "outputs": [
    {
     "name": "stdout",
     "output_type": "stream",
     "text": [
      "50/50 [==============================] - 0s 980us/step\n"
     ]
    },
    {
     "data": {
      "text/html": [
       "<div>\n",
       "<style scoped>\n",
       "    .dataframe tbody tr th:only-of-type {\n",
       "        vertical-align: middle;\n",
       "    }\n",
       "\n",
       "    .dataframe tbody tr th {\n",
       "        vertical-align: top;\n",
       "    }\n",
       "\n",
       "    .dataframe thead th {\n",
       "        text-align: right;\n",
       "    }\n",
       "</style>\n",
       "<table border=\"1\" class=\"dataframe\">\n",
       "  <thead>\n",
       "    <tr style=\"text-align: right;\">\n",
       "      <th></th>\n",
       "      <th>predictions</th>\n",
       "      <th>actuals</th>\n",
       "    </tr>\n",
       "  </thead>\n",
       "  <tbody>\n",
       "    <tr>\n",
       "      <th>0</th>\n",
       "      <td>29.601713</td>\n",
       "      <td>29.08</td>\n",
       "    </tr>\n",
       "    <tr>\n",
       "      <th>1</th>\n",
       "      <td>29.863361</td>\n",
       "      <td>30.12</td>\n",
       "    </tr>\n",
       "    <tr>\n",
       "      <th>2</th>\n",
       "      <td>30.676607</td>\n",
       "      <td>30.80</td>\n",
       "    </tr>\n",
       "    <tr>\n",
       "      <th>3</th>\n",
       "      <td>30.961699</td>\n",
       "      <td>31.02</td>\n",
       "    </tr>\n",
       "    <tr>\n",
       "      <th>4</th>\n",
       "      <td>30.759722</td>\n",
       "      <td>30.79</td>\n",
       "    </tr>\n",
       "    <tr>\n",
       "      <th>...</th>\n",
       "      <td>...</td>\n",
       "      <td>...</td>\n",
       "    </tr>\n",
       "    <tr>\n",
       "      <th>1574</th>\n",
       "      <td>16.560860</td>\n",
       "      <td>16.58</td>\n",
       "    </tr>\n",
       "    <tr>\n",
       "      <th>1575</th>\n",
       "      <td>17.662519</td>\n",
       "      <td>15.96</td>\n",
       "    </tr>\n",
       "    <tr>\n",
       "      <th>1576</th>\n",
       "      <td>16.110882</td>\n",
       "      <td>15.40</td>\n",
       "    </tr>\n",
       "    <tr>\n",
       "      <th>1577</th>\n",
       "      <td>15.358893</td>\n",
       "      <td>14.83</td>\n",
       "    </tr>\n",
       "    <tr>\n",
       "      <th>1578</th>\n",
       "      <td>13.987735</td>\n",
       "      <td>14.34</td>\n",
       "    </tr>\n",
       "  </tbody>\n",
       "</table>\n",
       "<p>1579 rows × 2 columns</p>\n",
       "</div>"
      ],
      "text/plain": [
       "      predictions  actuals\n",
       "0       29.601713    29.08\n",
       "1       29.863361    30.12\n",
       "2       30.676607    30.80\n",
       "3       30.961699    31.02\n",
       "4       30.759722    30.79\n",
       "...           ...      ...\n",
       "1574    16.560860    16.58\n",
       "1575    17.662519    15.96\n",
       "1576    16.110882    15.40\n",
       "1577    15.358893    14.83\n",
       "1578    13.987735    14.34\n",
       "\n",
       "[1579 rows x 2 columns]"
      ]
     },
     "execution_count": 459,
     "metadata": {},
     "output_type": "execute_result"
    },
    {
     "data": {
      "image/png": "[encoded data removed]",
      "text/plain": [
       "<Figure size 640x480 with 1 Axes>"
      ]
     },
     "metadata": {},
     "output_type": "display_data"
    }
   ],
   "source": [
    "plot_predictions(model4, X_test2, y_test2)"
   ]
  },
  {
   "cell_type": "code",
   "execution_count": 66,
   "metadata": {},
   "outputs": [
    {
     "data": {
      "text/plain": [
       "array([[[12.14,  1.  ,  5.  ,  1.  ],\n",
       "        [11.93,  1.  ,  6.  ,  1.  ],\n",
       "        [14.42,  1.  ,  7.  ,  1.  ],\n",
       "        [17.5 ,  1.  ,  8.  ,  1.  ],\n",
       "        [22.68,  1.  ,  9.  ,  1.  ]],\n",
       "\n",
       "       [[11.93,  1.  ,  6.  ,  1.  ],\n",
       "        [14.42,  1.  ,  7.  ,  1.  ],\n",
       "        [17.5 ,  1.  ,  8.  ,  1.  ],\n",
       "        [22.68,  1.  ,  9.  ,  1.  ],\n",
       "        [26.12,  1.  , 10.  ,  1.  ]],\n",
       "\n",
       "       [[14.42,  1.  ,  7.  ,  1.  ],\n",
       "        [17.5 ,  1.  ,  8.  ,  1.  ],\n",
       "        [22.68,  1.  ,  9.  ,  1.  ],\n",
       "        [26.12,  1.  , 10.  ,  1.  ],\n",
       "        [27.52,  1.  , 11.  ,  1.  ]],\n",
       "\n",
       "       ...,\n",
       "\n",
       "       [[27.37, 15.  , 10.  ,  9.  ],\n",
       "        [27.98, 15.  , 11.  ,  9.  ],\n",
       "        [28.23, 15.  , 12.  ,  9.  ],\n",
       "        [28.08, 15.  , 13.  ,  9.  ],\n",
       "        [27.45, 15.  , 14.  ,  9.  ]],\n",
       "\n",
       "       [[27.98, 15.  , 11.  ,  9.  ],\n",
       "        [28.23, 15.  , 12.  ,  9.  ],\n",
       "        [28.08, 15.  , 13.  ,  9.  ],\n",
       "        [27.45, 15.  , 14.  ,  9.  ],\n",
       "        [26.63, 15.  , 15.  ,  9.  ]],\n",
       "\n",
       "       [[28.23, 15.  , 12.  ,  9.  ],\n",
       "        [28.08, 15.  , 13.  ,  9.  ],\n",
       "        [27.45, 15.  , 14.  ,  9.  ],\n",
       "        [26.63, 15.  , 15.  ,  9.  ],\n",
       "        [25.67, 15.  , 16.  ,  9.  ]]])"
      ]
     },
     "execution_count": 66,
     "metadata": {},
     "output_type": "execute_result"
    }
   ],
   "source": [
    "X_train2"
   ]
  },
  {
   "cell_type": "code",
   "execution_count": 67,
   "metadata": {},
   "outputs": [
    {
     "name": "stdout",
     "output_type": "stream",
     "text": [
      "1/1 [==============================] - 0s 480ms/step\n"
     ]
    },
    {
     "data": {
      "text/plain": [
       "array([[0.71955246]], dtype=float32)"
      ]
     },
     "execution_count": 67,
     "metadata": {},
     "output_type": "execute_result"
    }
   ],
   "source": [
    "model4.predict([[\n",
    "        [27.37, 15.  , 10.  ,  9.  ],\n",
    "        [27.98, 15.  , 11.  ,  9.  ],\n",
    "        [28.23, 15.  , 12.  ,  9.  ],\n",
    "        [28.08, 15.  , 13.  ,  9.  ],\n",
    "        [27.45, 15.  , 14.  ,  9.  ]]])\n",
    "# needs 5 previous rows for prediction!"
   ]
  },
  {
   "cell_type": "code",
   "execution_count": 68,
   "metadata": {},
   "outputs": [
    {
     "data": {
      "text/html": [
       "<div>\n",
       "<style scoped>\n",
       "    .dataframe tbody tr th:only-of-type {\n",
       "        vertical-align: middle;\n",
       "    }\n",
       "\n",
       "    .dataframe tbody tr th {\n",
       "        vertical-align: top;\n",
       "    }\n",
       "\n",
       "    .dataframe thead th {\n",
       "        text-align: right;\n",
       "    }\n",
       "</style>\n",
       "<table border=\"1\" class=\"dataframe\">\n",
       "  <thead>\n",
       "    <tr style=\"text-align: right;\">\n",
       "      <th></th>\n",
       "      <th>YEAR</th>\n",
       "      <th>MO</th>\n",
       "      <th>DY</th>\n",
       "      <th>HR</th>\n",
       "      <th>ALLSKY_KT</th>\n",
       "      <th>T2M</th>\n",
       "      <th>QV2M</th>\n",
       "    </tr>\n",
       "  </thead>\n",
       "  <tbody>\n",
       "    <tr>\n",
       "      <th>0</th>\n",
       "      <td>2018</td>\n",
       "      <td>1</td>\n",
       "      <td>1</td>\n",
       "      <td>5</td>\n",
       "      <td>-999.00</td>\n",
       "      <td>12.14</td>\n",
       "      <td>4.46</td>\n",
       "    </tr>\n",
       "    <tr>\n",
       "      <th>1</th>\n",
       "      <td>2018</td>\n",
       "      <td>1</td>\n",
       "      <td>1</td>\n",
       "      <td>6</td>\n",
       "      <td>0.37</td>\n",
       "      <td>11.93</td>\n",
       "      <td>4.46</td>\n",
       "    </tr>\n",
       "    <tr>\n",
       "      <th>2</th>\n",
       "      <td>2018</td>\n",
       "      <td>1</td>\n",
       "      <td>1</td>\n",
       "      <td>7</td>\n",
       "      <td>0.50</td>\n",
       "      <td>14.42</td>\n",
       "      <td>4.58</td>\n",
       "    </tr>\n",
       "    <tr>\n",
       "      <th>3</th>\n",
       "      <td>2018</td>\n",
       "      <td>1</td>\n",
       "      <td>1</td>\n",
       "      <td>8</td>\n",
       "      <td>0.63</td>\n",
       "      <td>17.50</td>\n",
       "      <td>4.27</td>\n",
       "    </tr>\n",
       "    <tr>\n",
       "      <th>4</th>\n",
       "      <td>2018</td>\n",
       "      <td>1</td>\n",
       "      <td>1</td>\n",
       "      <td>9</td>\n",
       "      <td>0.70</td>\n",
       "      <td>22.68</td>\n",
       "      <td>4.27</td>\n",
       "    </tr>\n",
       "    <tr>\n",
       "      <th>...</th>\n",
       "      <td>...</td>\n",
       "      <td>...</td>\n",
       "      <td>...</td>\n",
       "      <td>...</td>\n",
       "      <td>...</td>\n",
       "      <td>...</td>\n",
       "      <td>...</td>\n",
       "    </tr>\n",
       "    <tr>\n",
       "      <th>52579</th>\n",
       "      <td>2024</td>\n",
       "      <td>1</td>\n",
       "      <td>1</td>\n",
       "      <td>0</td>\n",
       "      <td>-999.00</td>\n",
       "      <td>16.58</td>\n",
       "      <td>10.25</td>\n",
       "    </tr>\n",
       "    <tr>\n",
       "      <th>52580</th>\n",
       "      <td>2024</td>\n",
       "      <td>1</td>\n",
       "      <td>1</td>\n",
       "      <td>1</td>\n",
       "      <td>-999.00</td>\n",
       "      <td>15.96</td>\n",
       "      <td>10.25</td>\n",
       "    </tr>\n",
       "    <tr>\n",
       "      <th>52581</th>\n",
       "      <td>2024</td>\n",
       "      <td>1</td>\n",
       "      <td>1</td>\n",
       "      <td>2</td>\n",
       "      <td>-999.00</td>\n",
       "      <td>15.40</td>\n",
       "      <td>10.25</td>\n",
       "    </tr>\n",
       "    <tr>\n",
       "      <th>52582</th>\n",
       "      <td>2024</td>\n",
       "      <td>1</td>\n",
       "      <td>1</td>\n",
       "      <td>3</td>\n",
       "      <td>-999.00</td>\n",
       "      <td>14.83</td>\n",
       "      <td>10.25</td>\n",
       "    </tr>\n",
       "    <tr>\n",
       "      <th>52583</th>\n",
       "      <td>2024</td>\n",
       "      <td>1</td>\n",
       "      <td>1</td>\n",
       "      <td>4</td>\n",
       "      <td>-999.00</td>\n",
       "      <td>14.34</td>\n",
       "      <td>10.31</td>\n",
       "    </tr>\n",
       "  </tbody>\n",
       "</table>\n",
       "<p>52584 rows × 7 columns</p>\n",
       "</div>"
      ],
      "text/plain": [
       "       YEAR  MO  DY  HR  ALLSKY_KT    T2M   QV2M\n",
       "0      2018   1   1   5    -999.00  12.14   4.46\n",
       "1      2018   1   1   6       0.37  11.93   4.46\n",
       "2      2018   1   1   7       0.50  14.42   4.58\n",
       "3      2018   1   1   8       0.63  17.50   4.27\n",
       "4      2018   1   1   9       0.70  22.68   4.27\n",
       "...     ...  ..  ..  ..        ...    ...    ...\n",
       "52579  2024   1   1   0    -999.00  16.58  10.25\n",
       "52580  2024   1   1   1    -999.00  15.96  10.25\n",
       "52581  2024   1   1   2    -999.00  15.40  10.25\n",
       "52582  2024   1   1   3    -999.00  14.83  10.25\n",
       "52583  2024   1   1   4    -999.00  14.34  10.31\n",
       "\n",
       "[52584 rows x 7 columns]"
      ]
     },
     "execution_count": 68,
     "metadata": {},
     "output_type": "execute_result"
    }
   ],
   "source": [
    "df"
   ]
  },
  {
   "cell_type": "code",
   "execution_count": 69,
   "metadata": {},
   "outputs": [],
   "source": [
    "itr1 = temp_df.iloc[-5:].values\n",
    "itr1 = itr1.tolist()\n",
    "# will be used for predictions!\n",
    "# 2024 jan"
   ]
  },
  {
   "cell_type": "code",
   "execution_count": 70,
   "metadata": {},
   "outputs": [],
   "source": [
    "itr2 = temp_df.iloc[-(366*24-19):-366*24+24].values\n",
    "itr2 = itr2.tolist()\n",
    "# 2023 jan"
   ]
  },
  {
   "cell_type": "code",
   "execution_count": 97,
   "metadata": {},
   "outputs": [
    {
     "data": {
      "text/plain": [
       "[[16.58, 1.0, 0.0, 1.0],\n",
       " [15.96, 1.0, 1.0, 1.0],\n",
       " [15.4, 1.0, 2.0, 1.0],\n",
       " [14.83, 1.0, 3.0, 1.0],\n",
       " [14.34, 1.0, 4.0, 1.0]]"
      ]
     },
     "execution_count": 97,
     "metadata": {},
     "output_type": "execute_result"
    }
   ],
   "source": [
    "itr1"
   ]
  },
  {
   "cell_type": "code",
   "execution_count": 98,
   "metadata": {},
   "outputs": [
    {
     "data": {
      "text/plain": [
       "[[14.62, 1.0, 0.0, 1.0],\n",
       " [14.44, 1.0, 1.0, 1.0],\n",
       " [14.05, 1.0, 2.0, 1.0],\n",
       " [13.51, 1.0, 3.0, 1.0],\n",
       " [12.94, 1.0, 4.0, 1.0]]"
      ]
     },
     "execution_count": 98,
     "metadata": {},
     "output_type": "execute_result"
    }
   ],
   "source": [
    "itr2"
   ]
  },
  {
   "cell_type": "code",
   "execution_count": 99,
   "metadata": {},
   "outputs": [],
   "source": [
    "# model4.predict(\n",
    "#     [itr]\n",
    "# )"
   ]
  },
  {
   "cell_type": "code",
   "execution_count": 100,
   "metadata": {},
   "outputs": [],
   "source": [
    "import sqlite3"
   ]
  },
  {
   "cell_type": "code",
   "execution_count": 101,
   "metadata": {},
   "outputs": [],
   "source": [
    "con = sqlite3.connect('haryana_temperatures.db')\n",
    "cur = con.cursor()"
   ]
  },
  {
   "cell_type": "code",
   "execution_count": 102,
   "metadata": {},
   "outputs": [
    {
     "data": {
      "text/plain": [
       "<sqlite3.Cursor at 0x19f42c253c0>"
      ]
     },
     "execution_count": 102,
     "metadata": {},
     "output_type": "execute_result"
    }
   ],
   "source": [
    "cur.execute(\n",
    "    \"\"\"\n",
    "    CREATE TABLE IF NOT EXISTS haryanafinal(\n",
    "        day INT,\n",
    "        month INT,\n",
    "        year INT,\n",
    "        hour INT,\n",
    "        temp REAL\n",
    "    )\n",
    "    \"\"\"\n",
    ")"
   ]
  },
  {
   "cell_type": "code",
   "execution_count": null,
   "metadata": {},
   "outputs": [],
   "source": [
    "# cur.execute(\"\"\"DELETE TABLE haryana_tem\"\"\")"
   ]
  },
  {
   "cell_type": "code",
   "execution_count": 95,
   "metadata": {},
   "outputs": [],
   "source": [
    "def plot_day(day, month):\n",
    "    temperatures = []\n",
    "    window = itr1.copy()\n",
    "    hour = 5\n",
    "    for i in range(5):\n",
    "        temperatures.append(window[i][0])\n",
    "        \n",
    "    while (hour!=24):\n",
    "        pred = model4.predict(np.expand_dims(window, axis=0))[0][0]\n",
    "        temperatures.append(pred)\n",
    "        window.append([pred, day, hour, month])\n",
    "        window.pop(0)\n",
    "        window[-1][1] += 0.0\n",
    "        window[-1][2] += 0.0\n",
    "        window[-1][3] += 0.0\n",
    "        hour += 1\n",
    "        print(hour, pred)\n",
    "        print(window)\n",
    "        cur.execute(\"\"\"INSERT INTO haryanafinal VALUES (?, ?, ?, ?, ?)\"\"\", (day, month, 2024, hour, pred))\n",
    "        \n",
    "    plt.plot([i for i in range(24)], temperatures, c='red', label='predicted')\n",
    "    plt.plot([i for i in range(5)], temperatures[:5], c='blue', label='actual')\n",
    "    plt.legend()\n",
    "    plt.title('Weather Prediction for ' + str(day) + ' / ' + str(month) + ' / 2024')\n",
    "    plt.xlabel('time in hours')\n",
    "    plt.ylabel('temperature in degree Celsius')\n",
    "    plt.show()"
   ]
  },
  {
   "cell_type": "code",
   "execution_count": 96,
   "metadata": {},
   "outputs": [
    {
     "name": "stdout",
     "output_type": "stream",
     "text": [
      "1/1 [==============================] - 0s 31ms/step\n",
      "6 0.4792476\n",
      "[[15.96, 1.0, 1.0, 1.0], [15.4, 1.0, 2.0, 1.0], [14.83, 1.0, 3.0, 1.0], [14.34, 1.0, 4.0, 1.0], [0.4792476, 1.0, 5.0, 1.0]]\n",
      "1/1 [==============================] - 0s 31ms/step\n",
      "7 0.21291015\n",
      "[[15.4, 1.0, 2.0, 1.0], [14.83, 1.0, 3.0, 1.0], [14.34, 1.0, 4.0, 1.0], [0.4792476, 1.0, 5.0, 1.0], [0.21291015, 1.0, 6.0, 1.0]]\n",
      "1/1 [==============================] - 0s 22ms/step\n",
      "8 0.06511132\n",
      "[[14.83, 1.0, 3.0, 1.0], [14.34, 1.0, 4.0, 1.0], [0.4792476, 1.0, 5.0, 1.0], [0.21291015, 1.0, 6.0, 1.0], [0.06511132, 1.0, 7.0, 1.0]]\n",
      "1/1 [==============================] - 0s 31ms/step\n",
      "9 -0.07438846\n",
      "[[14.34, 1.0, 4.0, 1.0], [0.4792476, 1.0, 5.0, 1.0], [0.21291015, 1.0, 6.0, 1.0], [0.06511132, 1.0, 7.0, 1.0], [-0.07438846, 1.0, 8.0, 1.0]]\n",
      "1/1 [==============================] - 0s 29ms/step\n",
      "10 -0.13970748\n",
      "[[0.4792476, 1.0, 5.0, 1.0], [0.21291015, 1.0, 6.0, 1.0], [0.06511132, 1.0, 7.0, 1.0], [-0.07438846, 1.0, 8.0, 1.0], [-0.13970748, 1.0, 9.0, 1.0]]\n",
      "1/1 [==============================] - 0s 30ms/step\n",
      "11 -0.2225784\n",
      "[[0.21291015, 1.0, 6.0, 1.0], [0.06511132, 1.0, 7.0, 1.0], [-0.07438846, 1.0, 8.0, 1.0], [-0.13970748, 1.0, 9.0, 1.0], [-0.2225784, 1.0, 10.0, 1.0]]\n",
      "1/1 [==============================] - 0s 25ms/step\n",
      "12 -0.26514992\n",
      "[[0.06511132, 1.0, 7.0, 1.0], [-0.07438846, 1.0, 8.0, 1.0], [-0.13970748, 1.0, 9.0, 1.0], [-0.2225784, 1.0, 10.0, 1.0], [-0.26514992, 1.0, 11.0, 1.0]]\n",
      "1/1 [==============================] - 0s 28ms/step\n",
      "13 -0.30482015\n",
      "[[-0.07438846, 1.0, 8.0, 1.0], [-0.13970748, 1.0, 9.0, 1.0], [-0.2225784, 1.0, 10.0, 1.0], [-0.26514992, 1.0, 11.0, 1.0], [-0.30482015, 1.0, 12.0, 1.0]]\n",
      "1/1 [==============================] - 0s 29ms/step\n",
      "14 -0.341644\n",
      "[[-0.13970748, 1.0, 9.0, 1.0], [-0.2225784, 1.0, 10.0, 1.0], [-0.26514992, 1.0, 11.0, 1.0], [-0.30482015, 1.0, 12.0, 1.0], [-0.341644, 1.0, 13.0, 1.0]]\n",
      "1/1 [==============================] - 0s 32ms/step\n",
      "15 -0.37545672\n",
      "[[-0.2225784, 1.0, 10.0, 1.0], [-0.26514992, 1.0, 11.0, 1.0], [-0.30482015, 1.0, 12.0, 1.0], [-0.341644, 1.0, 13.0, 1.0], [-0.37545672, 1.0, 14.0, 1.0]]\n",
      "1/1 [==============================] - 0s 27ms/step\n",
      "16 -0.4061978\n",
      "[[-0.26514992, 1.0, 11.0, 1.0], [-0.30482015, 1.0, 12.0, 1.0], [-0.341644, 1.0, 13.0, 1.0], [-0.37545672, 1.0, 14.0, 1.0], [-0.4061978, 1.0, 15.0, 1.0]]\n",
      "1/1 [==============================] - 0s 20ms/step\n",
      "17 -0.43389425\n",
      "[[-0.30482015, 1.0, 12.0, 1.0], [-0.341644, 1.0, 13.0, 1.0], [-0.37545672, 1.0, 14.0, 1.0], [-0.4061978, 1.0, 15.0, 1.0], [-0.43389425, 1.0, 16.0, 1.0]]\n",
      "1/1 [==============================] - 0s 31ms/step\n",
      "18 -0.45871323\n",
      "[[-0.341644, 1.0, 13.0, 1.0], [-0.37545672, 1.0, 14.0, 1.0], [-0.4061978, 1.0, 15.0, 1.0], [-0.43389425, 1.0, 16.0, 1.0], [-0.45871323, 1.0, 17.0, 1.0]]\n",
      "1/1 [==============================] - 0s 26ms/step\n",
      "19 -0.48086786\n",
      "[[-0.37545672, 1.0, 14.0, 1.0], [-0.4061978, 1.0, 15.0, 1.0], [-0.43389425, 1.0, 16.0, 1.0], [-0.45871323, 1.0, 17.0, 1.0], [-0.48086786, 1.0, 18.0, 1.0]]\n",
      "1/1 [==============================] - 0s 21ms/step\n",
      "20 -0.500601\n",
      "[[-0.4061978, 1.0, 15.0, 1.0], [-0.43389425, 1.0, 16.0, 1.0], [-0.45871323, 1.0, 17.0, 1.0], [-0.48086786, 1.0, 18.0, 1.0], [-0.500601, 1.0, 19.0, 1.0]]\n",
      "1/1 [==============================] - 0s 21ms/step\n",
      "21 -0.5181598\n",
      "[[-0.43389425, 1.0, 16.0, 1.0], [-0.45871323, 1.0, 17.0, 1.0], [-0.48086786, 1.0, 18.0, 1.0], [-0.500601, 1.0, 19.0, 1.0], [-0.5181598, 1.0, 20.0, 1.0]]\n",
      "1/1 [==============================] - 0s 21ms/step\n",
      "22 -0.5337793\n",
      "[[-0.45871323, 1.0, 17.0, 1.0], [-0.48086786, 1.0, 18.0, 1.0], [-0.500601, 1.0, 19.0, 1.0], [-0.5181598, 1.0, 20.0, 1.0], [-0.5337793, 1.0, 21.0, 1.0]]\n",
      "1/1 [==============================] - 0s 27ms/step\n",
      "23 -0.5476761\n",
      "[[-0.48086786, 1.0, 18.0, 1.0], [-0.500601, 1.0, 19.0, 1.0], [-0.5181598, 1.0, 20.0, 1.0], [-0.5337793, 1.0, 21.0, 1.0], [-0.5476761, 1.0, 22.0, 1.0]]\n",
      "1/1 [==============================] - 0s 25ms/step\n",
      "24 -0.56004655\n",
      "[[-0.500601, 1.0, 19.0, 1.0], [-0.5181598, 1.0, 20.0, 1.0], [-0.5337793, 1.0, 21.0, 1.0], [-0.5476761, 1.0, 22.0, 1.0], [-0.56004655, 1.0, 23.0, 1.0]]\n"
     ]
    },
    {
     "data": {
      "image/png": "[encoded data removed]",
      "text/plain": [
       "<Figure size 640x480 with 1 Axes>"
      ]
     },
     "metadata": {},
     "output_type": "display_data"
    }
   ],
   "source": [
    "plot_day(1, 1)"
   ]
  },
  {
   "cell_type": "code",
   "execution_count": 470,
   "metadata": {},
   "outputs": [],
   "source": [
    "def compare(itr1, itr2):\n",
    "    \n",
    "    temperatures1 = []\n",
    "    temperatures2 = []\n",
    "    window1 = itr1.copy()\n",
    "    window2 = itr2.copy()\n",
    "    hour = 5\n",
    "    for i in range(5):\n",
    "        temperatures1.append(window1[i][0])\n",
    "        temperatures2.append(window2[i][0])\n",
    "        \n",
    "    while (hour!=24):\n",
    "        pred1 = model4.predict(np.expand_dims(window1, axis=0))[0][0]\n",
    "        temperatures1.append(pred1)\n",
    "        window1.append([pred1, itr1[0][1], hour, itr1[0][3]])\n",
    "        window1.pop(0)\n",
    "        window1[-1][1] += 0.0\n",
    "        window1[-1][2] += 0.0\n",
    "        window1[-1][3] += 0.0\n",
    "        \n",
    "        pred2 = model4.predict(np.expand_dims(window2, axis=0))[0][0]\n",
    "        temperatures2.append(pred2)\n",
    "        window2.append([pred2, itr2[0][1], hour, itr2[0][3]])\n",
    "        window2.pop(0)\n",
    "        window2[-1][1] += 0.0\n",
    "        window2[-1][2] += 0.0\n",
    "        window2[-1][3] += 0.0\n",
    "        hour += 1\n",
    "    \n",
    "    plt.plot([i for i in range(24)], temperatures1, c='black', label='2023')\n",
    "    plt.plot([i for i in range(24)], temperatures2, c='blue', label='2024')\n",
    "    plt.legend()\n",
    "    plt.title('Weather Prediction for ' + str(int(itr1[0][1])) + ' / ' + str(int(itr2[0][3])) + ' in 2023 and in 2024')\n",
    "    plt.xlabel('time in hours')\n",
    "    plt.ylabel('temperature in degree Celsius')\n",
    "    plt.show()"
   ]
  },
  {
   "cell_type": "code",
   "execution_count": 471,
   "metadata": {},
   "outputs": [
    {
     "name": "stdout",
     "output_type": "stream",
     "text": [
      "1/1 [==============================] - 0s 15ms/step\n",
      "1/1 [==============================] - 0s 11ms/step\n",
      "1/1 [==============================] - 0s 22ms/step\n",
      "1/1 [==============================] - 0s 11ms/step\n",
      "1/1 [==============================] - 0s 13ms/step\n",
      "1/1 [==============================] - 0s 16ms/step\n",
      "1/1 [==============================] - 0s 16ms/step\n",
      "1/1 [==============================] - 0s 11ms/step\n",
      "1/1 [==============================] - 0s 21ms/step\n",
      "1/1 [==============================] - 0s 21ms/step\n",
      "1/1 [==============================] - 0s 21ms/step\n",
      "1/1 [==============================] - 0s 21ms/step\n",
      "1/1 [==============================] - 0s 10ms/step\n",
      "1/1 [==============================] - 0s 11ms/step\n",
      "1/1 [==============================] - 0s 10ms/step\n",
      "1/1 [==============================] - 0s 10ms/step\n",
      "1/1 [==============================] - 0s 16ms/step\n",
      "1/1 [==============================] - 0s 15ms/step\n",
      "1/1 [==============================] - 0s 21ms/step\n",
      "1/1 [==============================] - 0s 21ms/step\n",
      "1/1 [==============================] - 0s 11ms/step\n",
      "1/1 [==============================] - 0s 16ms/step\n",
      "1/1 [==============================] - 0s 21ms/step\n",
      "1/1 [==============================] - 0s 21ms/step\n",
      "1/1 [==============================] - 0s 15ms/step\n",
      "1/1 [==============================] - 0s 21ms/step\n",
      "1/1 [==============================] - 0s 21ms/step\n",
      "1/1 [==============================] - 0s 11ms/step\n",
      "1/1 [==============================] - 0s 11ms/step\n",
      "1/1 [==============================] - 0s 22ms/step\n",
      "1/1 [==============================] - 0s 22ms/step\n",
      "1/1 [==============================] - 0s 11ms/step\n",
      "1/1 [==============================] - 0s 21ms/step\n",
      "1/1 [==============================] - 0s 21ms/step\n",
      "1/1 [==============================] - 0s 16ms/step\n",
      "1/1 [==============================] - 0s 11ms/step\n",
      "1/1 [==============================] - 0s 22ms/step\n",
      "1/1 [==============================] - 0s 11ms/step\n"
     ]
    },
    {
     "data": {
      "image/png": "[encoded data removed]",
      "text/plain": [
       "<Figure size 640x480 with 1 Axes>"
      ]
     },
     "metadata": {},
     "output_type": "display_data"
    }
   ],
   "source": [
    "compare(itr1, itr2)"
   ]
  }
 ],
 "metadata": {
  "kernelspec": {
   "display_name": "venv",
   "language": "python",
   "name": "python3"
  },
  "language_info": {
   "codemirror_mode": {
    "name": "ipython",
    "version": 3
   },
   "file_extension": ".py",
   "mimetype": "text/x-python",
   "name": "python",
   "nbconvert_exporter": "python",
   "pygments_lexer": "ipython3",
   "version": "3.11.1"
  }
 },
 "nbformat": 4,
 "nbformat_minor": 2
}
